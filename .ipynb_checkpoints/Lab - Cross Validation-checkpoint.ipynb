{
 "cells": [
  {
   "cell_type": "markdown",
   "id": "b3bb43f8",
   "metadata": {},
   "source": [
    "For this lab and in the next lessons we will build a model on customer churn binary classification problem. \\\n",
    "You will be using files_for_lab/Customer-Churn.csv file.\n",
    "\n",
    "Scenario\\\n",
    "You are working as an analyst with this internet service provider. \\\n",
    "You are provided with this historical data about your company's customers and their churn trends. \\\n",
    "Your task is to build a machine learning model that will help the company identify customers that are more likely to default/churn and thus prevent losses from such customers.\n",
    "\n",
    "Instructions\\\n",
    "In this lab, we will first take a look at the degree of imbalance in the data and correct it using the techniques we learned on the class.\n",
    "\n",
    "Here is the list of steps to be followed (building a simple model without balancing the data):\n",
    "\n",
    "Import the required libraries and modules that you would need.\\\n",
    "Read that data into Python and call the dataframe churnData.\\\n",
    "Check the datatypes of all the columns in the data. You would see that the column TotalCharges is object type.\\\n",
    "Convert this column into numeric type using pd.to_numeric function.\\\n",
    "Check for null values in the dataframe. Replace the null values.\\\n",
    "Use the following features: tenure, SeniorCitizen, MonthlyCharges and TotalCharges:\\\n",
    "Scale the features either by using normalizer or a standard scaler.\\\n",
    "Split the data into a training set and a test set.\\\n",
    "Fit a logistic regression model on the training data.\\\n",
    "Check the accuracy on the test data.\\\n",
    "Note: So far we have not balanced the data.\n",
    "\n",
    "Managing imbalance in the dataset\n",
    "\n",
    "Check for the imbalance.\\\n",
    "Use the resampling strategies used in class for upsampling and downsampling to create a balance between the two classes.\\\n",
    "Each time fit the model and see how the accuracy of the model is."
   ]
  },
  {
   "cell_type": "code",
   "execution_count": 1,
   "id": "4360c26c",
   "metadata": {},
   "outputs": [],
   "source": [
    "import pandas as pd\n",
    "import numpy as np\n",
    "import scipy.stats as stats\n",
    "import matplotlib.pyplot as plt\n",
    "import seaborn as sns\n",
    "from sklearn.impute import KNNImputer\n",
    "from sklearn import metrics\n",
    "from sklearn.preprocessing import StandardScaler\n",
    "from sklearn.preprocessing import OneHotEncoder\n",
    "from sklearn.preprocessing import OrdinalEncoder\n",
    "from sklearn.model_selection import train_test_split\n",
    "from sklearn.neighbors import KNeighborsRegressor\n",
    "from sklearn.neighbors import KNeighborsClassifier\n",
    "from sklearn.linear_model import LogisticRegression\n",
    "from sklearn.linear_model import LinearRegression\n",
    "from sklearn.tree import DecisionTreeClassifier\n",
    "from collections import Counter\n",
    "from sklearn.datasets import make_classification\n",
    "from imblearn.under_sampling import TomekLinks \n",
    "from sklearn.ensemble import RandomForestClassifier\n",
    "from sklearn.model_selection import RandomizedSearchCV\n",
    "from sklearn.model_selection import cross_val_score\n",
    "from sklearn.metrics import RocCurveDisplay\n",
    "from sklearn.svm import SVC\n",
    "from sklearn.metrics import r2_score, mean_squared_error, mean_absolute_error\n",
    "from sklearn.metrics import confusion_matrix\n",
    "from sklearn.metrics import classification_report\n",
    "from imblearn.over_sampling import SMOTE \n",
    "from imblearn.under_sampling import TomekLinks\n",
    "from sklearn.metrics import roc_auc_score\n",
    "from sklearn.metrics import roc_curve\n",
    "from collections import Counter\n",
    "from sklearn.datasets import make_classification\n",
    "from imblearn.combine import SMOTEENN\n",
    "from imblearn.combine import SMOTETomek\n",
    "from imblearn.over_sampling import SVMSMOTE \n",
    "import warnings\n",
    "warnings.filterwarnings('ignore')"
   ]
  },
  {
   "cell_type": "markdown",
   "id": "e0995beb",
   "metadata": {},
   "source": [
    "### Data wrangling"
   ]
  },
  {
   "cell_type": "code",
   "execution_count": 3,
   "id": "b564f40b",
   "metadata": {},
   "outputs": [
    {
     "data": {
      "text/html": [
       "<div>\n",
       "<style scoped>\n",
       "    .dataframe tbody tr th:only-of-type {\n",
       "        vertical-align: middle;\n",
       "    }\n",
       "\n",
       "    .dataframe tbody tr th {\n",
       "        vertical-align: top;\n",
       "    }\n",
       "\n",
       "    .dataframe thead th {\n",
       "        text-align: right;\n",
       "    }\n",
       "</style>\n",
       "<table border=\"1\" class=\"dataframe\">\n",
       "  <thead>\n",
       "    <tr style=\"text-align: right;\">\n",
       "      <th></th>\n",
       "      <th>gender</th>\n",
       "      <th>SeniorCitizen</th>\n",
       "      <th>Partner</th>\n",
       "      <th>Dependents</th>\n",
       "      <th>tenure</th>\n",
       "      <th>PhoneService</th>\n",
       "      <th>OnlineSecurity</th>\n",
       "      <th>OnlineBackup</th>\n",
       "      <th>DeviceProtection</th>\n",
       "      <th>TechSupport</th>\n",
       "      <th>StreamingTV</th>\n",
       "      <th>StreamingMovies</th>\n",
       "      <th>Contract</th>\n",
       "      <th>MonthlyCharges</th>\n",
       "      <th>TotalCharges</th>\n",
       "      <th>Churn</th>\n",
       "    </tr>\n",
       "  </thead>\n",
       "  <tbody>\n",
       "    <tr>\n",
       "      <th>0</th>\n",
       "      <td>Female</td>\n",
       "      <td>0</td>\n",
       "      <td>Yes</td>\n",
       "      <td>No</td>\n",
       "      <td>1</td>\n",
       "      <td>No</td>\n",
       "      <td>No</td>\n",
       "      <td>Yes</td>\n",
       "      <td>No</td>\n",
       "      <td>No</td>\n",
       "      <td>No</td>\n",
       "      <td>No</td>\n",
       "      <td>Month-to-month</td>\n",
       "      <td>29.85</td>\n",
       "      <td>29.85</td>\n",
       "      <td>No</td>\n",
       "    </tr>\n",
       "    <tr>\n",
       "      <th>1</th>\n",
       "      <td>Male</td>\n",
       "      <td>0</td>\n",
       "      <td>No</td>\n",
       "      <td>No</td>\n",
       "      <td>34</td>\n",
       "      <td>Yes</td>\n",
       "      <td>Yes</td>\n",
       "      <td>No</td>\n",
       "      <td>Yes</td>\n",
       "      <td>No</td>\n",
       "      <td>No</td>\n",
       "      <td>No</td>\n",
       "      <td>One year</td>\n",
       "      <td>56.95</td>\n",
       "      <td>1889.5</td>\n",
       "      <td>No</td>\n",
       "    </tr>\n",
       "    <tr>\n",
       "      <th>2</th>\n",
       "      <td>Male</td>\n",
       "      <td>0</td>\n",
       "      <td>No</td>\n",
       "      <td>No</td>\n",
       "      <td>2</td>\n",
       "      <td>Yes</td>\n",
       "      <td>Yes</td>\n",
       "      <td>Yes</td>\n",
       "      <td>No</td>\n",
       "      <td>No</td>\n",
       "      <td>No</td>\n",
       "      <td>No</td>\n",
       "      <td>Month-to-month</td>\n",
       "      <td>53.85</td>\n",
       "      <td>108.15</td>\n",
       "      <td>Yes</td>\n",
       "    </tr>\n",
       "    <tr>\n",
       "      <th>3</th>\n",
       "      <td>Male</td>\n",
       "      <td>0</td>\n",
       "      <td>No</td>\n",
       "      <td>No</td>\n",
       "      <td>45</td>\n",
       "      <td>No</td>\n",
       "      <td>Yes</td>\n",
       "      <td>No</td>\n",
       "      <td>Yes</td>\n",
       "      <td>Yes</td>\n",
       "      <td>No</td>\n",
       "      <td>No</td>\n",
       "      <td>One year</td>\n",
       "      <td>42.30</td>\n",
       "      <td>1840.75</td>\n",
       "      <td>No</td>\n",
       "    </tr>\n",
       "    <tr>\n",
       "      <th>4</th>\n",
       "      <td>Female</td>\n",
       "      <td>0</td>\n",
       "      <td>No</td>\n",
       "      <td>No</td>\n",
       "      <td>2</td>\n",
       "      <td>Yes</td>\n",
       "      <td>No</td>\n",
       "      <td>No</td>\n",
       "      <td>No</td>\n",
       "      <td>No</td>\n",
       "      <td>No</td>\n",
       "      <td>No</td>\n",
       "      <td>Month-to-month</td>\n",
       "      <td>70.70</td>\n",
       "      <td>151.65</td>\n",
       "      <td>Yes</td>\n",
       "    </tr>\n",
       "  </tbody>\n",
       "</table>\n",
       "</div>"
      ],
      "text/plain": [
       "   gender  SeniorCitizen Partner Dependents  tenure PhoneService  \\\n",
       "0  Female              0     Yes         No       1           No   \n",
       "1    Male              0      No         No      34          Yes   \n",
       "2    Male              0      No         No       2          Yes   \n",
       "3    Male              0      No         No      45           No   \n",
       "4  Female              0      No         No       2          Yes   \n",
       "\n",
       "  OnlineSecurity OnlineBackup DeviceProtection TechSupport StreamingTV  \\\n",
       "0             No          Yes               No          No          No   \n",
       "1            Yes           No              Yes          No          No   \n",
       "2            Yes          Yes               No          No          No   \n",
       "3            Yes           No              Yes         Yes          No   \n",
       "4             No           No               No          No          No   \n",
       "\n",
       "  StreamingMovies        Contract  MonthlyCharges TotalCharges Churn  \n",
       "0              No  Month-to-month           29.85        29.85    No  \n",
       "1              No        One year           56.95       1889.5    No  \n",
       "2              No  Month-to-month           53.85       108.15   Yes  \n",
       "3              No        One year           42.30      1840.75    No  \n",
       "4              No  Month-to-month           70.70       151.65   Yes  "
      ]
     },
     "execution_count": 3,
     "metadata": {},
     "output_type": "execute_result"
    }
   ],
   "source": [
    "churnData = pd.read_csv('Customer-Churn.csv')\n",
    "churnData.head()"
   ]
  },
  {
   "cell_type": "code",
   "execution_count": 4,
   "id": "4ad835c6",
   "metadata": {},
   "outputs": [
    {
     "name": "stdout",
     "output_type": "stream",
     "text": [
      "<class 'pandas.core.frame.DataFrame'>\n",
      "RangeIndex: 7043 entries, 0 to 7042\n",
      "Data columns (total 16 columns):\n",
      " #   Column            Non-Null Count  Dtype  \n",
      "---  ------            --------------  -----  \n",
      " 0   gender            7043 non-null   object \n",
      " 1   SeniorCitizen     7043 non-null   int64  \n",
      " 2   Partner           7043 non-null   object \n",
      " 3   Dependents        7043 non-null   object \n",
      " 4   tenure            7043 non-null   int64  \n",
      " 5   PhoneService      7043 non-null   object \n",
      " 6   OnlineSecurity    7043 non-null   object \n",
      " 7   OnlineBackup      7043 non-null   object \n",
      " 8   DeviceProtection  7043 non-null   object \n",
      " 9   TechSupport       7043 non-null   object \n",
      " 10  StreamingTV       7043 non-null   object \n",
      " 11  StreamingMovies   7043 non-null   object \n",
      " 12  Contract          7043 non-null   object \n",
      " 13  MonthlyCharges    7043 non-null   float64\n",
      " 14  TotalCharges      7043 non-null   object \n",
      " 15  Churn             7043 non-null   object \n",
      "dtypes: float64(1), int64(2), object(13)\n",
      "memory usage: 880.5+ KB\n"
     ]
    }
   ],
   "source": [
    "churnData.info()"
   ]
  },
  {
   "cell_type": "markdown",
   "id": "b2e95cbd",
   "metadata": {},
   "source": [
    "### Cleaning TotalCharges"
   ]
  },
  {
   "cell_type": "code",
   "execution_count": 5,
   "id": "391de97c",
   "metadata": {},
   "outputs": [
    {
     "data": {
      "text/plain": [
       "dtype('float64')"
      ]
     },
     "execution_count": 5,
     "metadata": {},
     "output_type": "execute_result"
    }
   ],
   "source": [
    "churnData['TotalCharges'] = pd.to_numeric(churnData['TotalCharges'], errors='coerce')\n",
    "churnData['TotalCharges'].dtypes"
   ]
  },
  {
   "cell_type": "code",
   "execution_count": 6,
   "id": "4b66de90",
   "metadata": {},
   "outputs": [
    {
     "data": {
      "text/plain": [
       "gender               0\n",
       "SeniorCitizen        0\n",
       "Partner              0\n",
       "Dependents           0\n",
       "tenure               0\n",
       "PhoneService         0\n",
       "OnlineSecurity       0\n",
       "OnlineBackup         0\n",
       "DeviceProtection     0\n",
       "TechSupport          0\n",
       "StreamingTV          0\n",
       "StreamingMovies      0\n",
       "Contract             0\n",
       "MonthlyCharges       0\n",
       "TotalCharges        11\n",
       "Churn                0\n",
       "dtype: int64"
      ]
     },
     "execution_count": 6,
     "metadata": {},
     "output_type": "execute_result"
    }
   ],
   "source": [
    "churnData.isna().sum()"
   ]
  },
  {
   "cell_type": "code",
   "execution_count": 7,
   "id": "5a549fd8",
   "metadata": {},
   "outputs": [
    {
     "data": {
      "text/html": [
       "<div>\n",
       "<style scoped>\n",
       "    .dataframe tbody tr th:only-of-type {\n",
       "        vertical-align: middle;\n",
       "    }\n",
       "\n",
       "    .dataframe tbody tr th {\n",
       "        vertical-align: top;\n",
       "    }\n",
       "\n",
       "    .dataframe thead th {\n",
       "        text-align: right;\n",
       "    }\n",
       "</style>\n",
       "<table border=\"1\" class=\"dataframe\">\n",
       "  <thead>\n",
       "    <tr style=\"text-align: right;\">\n",
       "      <th></th>\n",
       "      <th>MonthlyCharges</th>\n",
       "      <th>TotalCharges</th>\n",
       "    </tr>\n",
       "  </thead>\n",
       "  <tbody>\n",
       "    <tr>\n",
       "      <th>488</th>\n",
       "      <td>52.55</td>\n",
       "      <td>NaN</td>\n",
       "    </tr>\n",
       "    <tr>\n",
       "      <th>753</th>\n",
       "      <td>20.25</td>\n",
       "      <td>NaN</td>\n",
       "    </tr>\n",
       "    <tr>\n",
       "      <th>936</th>\n",
       "      <td>80.85</td>\n",
       "      <td>NaN</td>\n",
       "    </tr>\n",
       "    <tr>\n",
       "      <th>1082</th>\n",
       "      <td>25.75</td>\n",
       "      <td>NaN</td>\n",
       "    </tr>\n",
       "    <tr>\n",
       "      <th>1340</th>\n",
       "      <td>56.05</td>\n",
       "      <td>NaN</td>\n",
       "    </tr>\n",
       "    <tr>\n",
       "      <th>3331</th>\n",
       "      <td>19.85</td>\n",
       "      <td>NaN</td>\n",
       "    </tr>\n",
       "    <tr>\n",
       "      <th>3826</th>\n",
       "      <td>25.35</td>\n",
       "      <td>NaN</td>\n",
       "    </tr>\n",
       "    <tr>\n",
       "      <th>4380</th>\n",
       "      <td>20.00</td>\n",
       "      <td>NaN</td>\n",
       "    </tr>\n",
       "    <tr>\n",
       "      <th>5218</th>\n",
       "      <td>19.70</td>\n",
       "      <td>NaN</td>\n",
       "    </tr>\n",
       "    <tr>\n",
       "      <th>6670</th>\n",
       "      <td>73.35</td>\n",
       "      <td>NaN</td>\n",
       "    </tr>\n",
       "    <tr>\n",
       "      <th>6754</th>\n",
       "      <td>61.90</td>\n",
       "      <td>NaN</td>\n",
       "    </tr>\n",
       "  </tbody>\n",
       "</table>\n",
       "</div>"
      ],
      "text/plain": [
       "      MonthlyCharges  TotalCharges\n",
       "488            52.55           NaN\n",
       "753            20.25           NaN\n",
       "936            80.85           NaN\n",
       "1082           25.75           NaN\n",
       "1340           56.05           NaN\n",
       "3331           19.85           NaN\n",
       "3826           25.35           NaN\n",
       "4380           20.00           NaN\n",
       "5218           19.70           NaN\n",
       "6670           73.35           NaN\n",
       "6754           61.90           NaN"
      ]
     },
     "execution_count": 7,
     "metadata": {},
     "output_type": "execute_result"
    }
   ],
   "source": [
    "df_nan = churnData[['MonthlyCharges','TotalCharges']].copy()\n",
    "df_nan[df_nan['TotalCharges'].isna()]"
   ]
  },
  {
   "cell_type": "code",
   "execution_count": 8,
   "id": "5ee315d7",
   "metadata": {},
   "outputs": [
    {
     "data": {
      "text/plain": [
       "array([  29.85, 1889.5 ,  108.15, ...,  346.45,  306.6 , 6844.5 ])"
      ]
     },
     "execution_count": 8,
     "metadata": {},
     "output_type": "execute_result"
    }
   ],
   "source": [
    "imputer = KNNImputer(n_neighbors=5, weights='uniform', metric='nan_euclidean')\n",
    "imputed = imputer.fit_transform(df_nan)\n",
    "df_imputed = pd.DataFrame(imputed, columns=df_nan.columns)\n",
    "df_imputed['TotalCharges'].unique()"
   ]
  },
  {
   "cell_type": "code",
   "execution_count": 9,
   "id": "574c25e0",
   "metadata": {},
   "outputs": [
    {
     "data": {
      "text/plain": [
       "0"
      ]
     },
     "execution_count": 9,
     "metadata": {},
     "output_type": "execute_result"
    }
   ],
   "source": [
    "churnData['TotalCharges'] = df_imputed['TotalCharges']\n",
    "churnData['TotalCharges'].isna().sum()"
   ]
  },
  {
   "cell_type": "code",
   "execution_count": 10,
   "id": "ef6cfb25",
   "metadata": {},
   "outputs": [
    {
     "data": {
      "text/html": [
       "<div>\n",
       "<style scoped>\n",
       "    .dataframe tbody tr th:only-of-type {\n",
       "        vertical-align: middle;\n",
       "    }\n",
       "\n",
       "    .dataframe tbody tr th {\n",
       "        vertical-align: top;\n",
       "    }\n",
       "\n",
       "    .dataframe thead th {\n",
       "        text-align: right;\n",
       "    }\n",
       "</style>\n",
       "<table border=\"1\" class=\"dataframe\">\n",
       "  <thead>\n",
       "    <tr style=\"text-align: right;\">\n",
       "      <th></th>\n",
       "      <th>tenure</th>\n",
       "      <th>SeniorCitizen</th>\n",
       "      <th>MonthlyCharges</th>\n",
       "      <th>TotalCharges</th>\n",
       "    </tr>\n",
       "  </thead>\n",
       "  <tbody>\n",
       "    <tr>\n",
       "      <th>0</th>\n",
       "      <td>1</td>\n",
       "      <td>0</td>\n",
       "      <td>29.85</td>\n",
       "      <td>29.85</td>\n",
       "    </tr>\n",
       "    <tr>\n",
       "      <th>1</th>\n",
       "      <td>34</td>\n",
       "      <td>0</td>\n",
       "      <td>56.95</td>\n",
       "      <td>1889.50</td>\n",
       "    </tr>\n",
       "    <tr>\n",
       "      <th>2</th>\n",
       "      <td>2</td>\n",
       "      <td>0</td>\n",
       "      <td>53.85</td>\n",
       "      <td>108.15</td>\n",
       "    </tr>\n",
       "    <tr>\n",
       "      <th>3</th>\n",
       "      <td>45</td>\n",
       "      <td>0</td>\n",
       "      <td>42.30</td>\n",
       "      <td>1840.75</td>\n",
       "    </tr>\n",
       "    <tr>\n",
       "      <th>4</th>\n",
       "      <td>2</td>\n",
       "      <td>0</td>\n",
       "      <td>70.70</td>\n",
       "      <td>151.65</td>\n",
       "    </tr>\n",
       "  </tbody>\n",
       "</table>\n",
       "</div>"
      ],
      "text/plain": [
       "   tenure  SeniorCitizen  MonthlyCharges  TotalCharges\n",
       "0       1              0           29.85         29.85\n",
       "1      34              0           56.95       1889.50\n",
       "2       2              0           53.85        108.15\n",
       "3      45              0           42.30       1840.75\n",
       "4       2              0           70.70        151.65"
      ]
     },
     "execution_count": 10,
     "metadata": {},
     "output_type": "execute_result"
    }
   ],
   "source": [
    "data = churnData[['tenure','SeniorCitizen','MonthlyCharges','TotalCharges']]\n",
    "data.head()"
   ]
  },
  {
   "cell_type": "markdown",
   "id": "16561c50",
   "metadata": {},
   "source": [
    "##### Cleaning SeniorCitizen"
   ]
  },
  {
   "cell_type": "code",
   "execution_count": 11,
   "id": "3a477290",
   "metadata": {},
   "outputs": [
    {
     "data": {
      "text/plain": [
       "array([0, 1], dtype=int64)"
      ]
     },
     "execution_count": 11,
     "metadata": {},
     "output_type": "execute_result"
    }
   ],
   "source": [
    "data.SeniorCitizen.unique()"
   ]
  },
  {
   "cell_type": "code",
   "execution_count": 12,
   "id": "30e2ffcb",
   "metadata": {},
   "outputs": [
    {
     "data": {
      "text/plain": [
       "array([0, 1], dtype=object)"
      ]
     },
     "execution_count": 12,
     "metadata": {},
     "output_type": "execute_result"
    }
   ],
   "source": [
    "data.SeniorCitizen = data.SeniorCitizen.astype(object)\n",
    "data.SeniorCitizen.unique()"
   ]
  },
  {
   "cell_type": "markdown",
   "id": "ddc84da0",
   "metadata": {},
   "source": [
    "### Scaling the data"
   ]
  },
  {
   "cell_type": "code",
   "execution_count": 13,
   "id": "1bbeb344",
   "metadata": {},
   "outputs": [
    {
     "data": {
      "text/html": [
       "<div>\n",
       "<style scoped>\n",
       "    .dataframe tbody tr th:only-of-type {\n",
       "        vertical-align: middle;\n",
       "    }\n",
       "\n",
       "    .dataframe tbody tr th {\n",
       "        vertical-align: top;\n",
       "    }\n",
       "\n",
       "    .dataframe thead th {\n",
       "        text-align: right;\n",
       "    }\n",
       "</style>\n",
       "<table border=\"1\" class=\"dataframe\">\n",
       "  <thead>\n",
       "    <tr style=\"text-align: right;\">\n",
       "      <th></th>\n",
       "      <th>tenure</th>\n",
       "      <th>MonthlyCharges</th>\n",
       "      <th>TotalCharges</th>\n",
       "    </tr>\n",
       "  </thead>\n",
       "  <tbody>\n",
       "    <tr>\n",
       "      <th>0</th>\n",
       "      <td>-1.277445</td>\n",
       "      <td>-1.160323</td>\n",
       "      <td>-0.994017</td>\n",
       "    </tr>\n",
       "    <tr>\n",
       "      <th>1</th>\n",
       "      <td>0.066327</td>\n",
       "      <td>-0.259629</td>\n",
       "      <td>-0.173124</td>\n",
       "    </tr>\n",
       "    <tr>\n",
       "      <th>2</th>\n",
       "      <td>-1.236724</td>\n",
       "      <td>-0.362660</td>\n",
       "      <td>-0.959453</td>\n",
       "    </tr>\n",
       "    <tr>\n",
       "      <th>3</th>\n",
       "      <td>0.514251</td>\n",
       "      <td>-0.746535</td>\n",
       "      <td>-0.194644</td>\n",
       "    </tr>\n",
       "    <tr>\n",
       "      <th>4</th>\n",
       "      <td>-1.236724</td>\n",
       "      <td>0.197365</td>\n",
       "      <td>-0.940251</td>\n",
       "    </tr>\n",
       "  </tbody>\n",
       "</table>\n",
       "</div>"
      ],
      "text/plain": [
       "     tenure  MonthlyCharges  TotalCharges\n",
       "0 -1.277445       -1.160323     -0.994017\n",
       "1  0.066327       -0.259629     -0.173124\n",
       "2 -1.236724       -0.362660     -0.959453\n",
       "3  0.514251       -0.746535     -0.194644\n",
       "4 -1.236724        0.197365     -0.940251"
      ]
     },
     "execution_count": 13,
     "metadata": {},
     "output_type": "execute_result"
    }
   ],
   "source": [
    "def standard_scaling(df):\n",
    "    numericals = df.select_dtypes(np.number)\n",
    "    transformer = StandardScaler().fit(numericals)\n",
    "    x_standardized = transformer.transform(numericals)\n",
    "    X = pd.DataFrame(x_standardized)\n",
    "    X.columns = numericals.columns\n",
    "    return X\n",
    "\n",
    "X = standard_scaling(data)\n",
    "X.head()"
   ]
  },
  {
   "cell_type": "code",
   "execution_count": 14,
   "id": "64410415",
   "metadata": {},
   "outputs": [
    {
     "data": {
      "text/html": [
       "<div>\n",
       "<style scoped>\n",
       "    .dataframe tbody tr th:only-of-type {\n",
       "        vertical-align: middle;\n",
       "    }\n",
       "\n",
       "    .dataframe tbody tr th {\n",
       "        vertical-align: top;\n",
       "    }\n",
       "\n",
       "    .dataframe thead th {\n",
       "        text-align: right;\n",
       "    }\n",
       "</style>\n",
       "<table border=\"1\" class=\"dataframe\">\n",
       "  <thead>\n",
       "    <tr style=\"text-align: right;\">\n",
       "      <th></th>\n",
       "      <th>tenure</th>\n",
       "      <th>MonthlyCharges</th>\n",
       "      <th>TotalCharges</th>\n",
       "      <th>SeniorCitizen</th>\n",
       "    </tr>\n",
       "  </thead>\n",
       "  <tbody>\n",
       "    <tr>\n",
       "      <th>0</th>\n",
       "      <td>-1.277445</td>\n",
       "      <td>-1.160323</td>\n",
       "      <td>-0.994017</td>\n",
       "      <td>0</td>\n",
       "    </tr>\n",
       "    <tr>\n",
       "      <th>1</th>\n",
       "      <td>0.066327</td>\n",
       "      <td>-0.259629</td>\n",
       "      <td>-0.173124</td>\n",
       "      <td>0</td>\n",
       "    </tr>\n",
       "    <tr>\n",
       "      <th>2</th>\n",
       "      <td>-1.236724</td>\n",
       "      <td>-0.362660</td>\n",
       "      <td>-0.959453</td>\n",
       "      <td>0</td>\n",
       "    </tr>\n",
       "    <tr>\n",
       "      <th>3</th>\n",
       "      <td>0.514251</td>\n",
       "      <td>-0.746535</td>\n",
       "      <td>-0.194644</td>\n",
       "      <td>0</td>\n",
       "    </tr>\n",
       "    <tr>\n",
       "      <th>4</th>\n",
       "      <td>-1.236724</td>\n",
       "      <td>0.197365</td>\n",
       "      <td>-0.940251</td>\n",
       "      <td>0</td>\n",
       "    </tr>\n",
       "    <tr>\n",
       "      <th>...</th>\n",
       "      <td>...</td>\n",
       "      <td>...</td>\n",
       "      <td>...</td>\n",
       "      <td>...</td>\n",
       "    </tr>\n",
       "    <tr>\n",
       "      <th>7038</th>\n",
       "      <td>-0.340876</td>\n",
       "      <td>0.665992</td>\n",
       "      <td>-0.128541</td>\n",
       "      <td>0</td>\n",
       "    </tr>\n",
       "    <tr>\n",
       "      <th>7039</th>\n",
       "      <td>1.613701</td>\n",
       "      <td>1.277533</td>\n",
       "      <td>2.242960</td>\n",
       "      <td>0</td>\n",
       "    </tr>\n",
       "    <tr>\n",
       "      <th>7040</th>\n",
       "      <td>-0.870241</td>\n",
       "      <td>-1.168632</td>\n",
       "      <td>-0.854262</td>\n",
       "      <td>0</td>\n",
       "    </tr>\n",
       "    <tr>\n",
       "      <th>7041</th>\n",
       "      <td>-1.155283</td>\n",
       "      <td>0.320338</td>\n",
       "      <td>-0.871853</td>\n",
       "      <td>1</td>\n",
       "    </tr>\n",
       "    <tr>\n",
       "      <th>7042</th>\n",
       "      <td>1.369379</td>\n",
       "      <td>1.358961</td>\n",
       "      <td>2.014126</td>\n",
       "      <td>0</td>\n",
       "    </tr>\n",
       "  </tbody>\n",
       "</table>\n",
       "<p>7043 rows × 4 columns</p>\n",
       "</div>"
      ],
      "text/plain": [
       "        tenure  MonthlyCharges  TotalCharges SeniorCitizen\n",
       "0    -1.277445       -1.160323     -0.994017             0\n",
       "1     0.066327       -0.259629     -0.173124             0\n",
       "2    -1.236724       -0.362660     -0.959453             0\n",
       "3     0.514251       -0.746535     -0.194644             0\n",
       "4    -1.236724        0.197365     -0.940251             0\n",
       "...        ...             ...           ...           ...\n",
       "7038 -0.340876        0.665992     -0.128541             0\n",
       "7039  1.613701        1.277533      2.242960             0\n",
       "7040 -0.870241       -1.168632     -0.854262             0\n",
       "7041 -1.155283        0.320338     -0.871853             1\n",
       "7042  1.369379        1.358961      2.014126             0\n",
       "\n",
       "[7043 rows x 4 columns]"
      ]
     },
     "execution_count": 14,
     "metadata": {},
     "output_type": "execute_result"
    }
   ],
   "source": [
    "X = pd.concat([X, data['SeniorCitizen']], axis=1)\n",
    "X"
   ]
  },
  {
   "cell_type": "markdown",
   "id": "fb042f1d",
   "metadata": {},
   "source": [
    "### Encoding the categoricals"
   ]
  },
  {
   "cell_type": "code",
   "execution_count": 15,
   "id": "4a1d20ea",
   "metadata": {},
   "outputs": [
    {
     "data": {
      "text/html": [
       "<div>\n",
       "<style scoped>\n",
       "    .dataframe tbody tr th:only-of-type {\n",
       "        vertical-align: middle;\n",
       "    }\n",
       "\n",
       "    .dataframe tbody tr th {\n",
       "        vertical-align: top;\n",
       "    }\n",
       "\n",
       "    .dataframe thead th {\n",
       "        text-align: right;\n",
       "    }\n",
       "</style>\n",
       "<table border=\"1\" class=\"dataframe\">\n",
       "  <thead>\n",
       "    <tr style=\"text-align: right;\">\n",
       "      <th></th>\n",
       "      <th>gender</th>\n",
       "      <th>Partner</th>\n",
       "      <th>Dependents</th>\n",
       "      <th>PhoneService</th>\n",
       "      <th>OnlineSecurity</th>\n",
       "      <th>OnlineBackup</th>\n",
       "      <th>DeviceProtection</th>\n",
       "      <th>TechSupport</th>\n",
       "      <th>StreamingTV</th>\n",
       "      <th>StreamingMovies</th>\n",
       "      <th>Contract</th>\n",
       "      <th>Churn</th>\n",
       "    </tr>\n",
       "  </thead>\n",
       "  <tbody>\n",
       "    <tr>\n",
       "      <th>0</th>\n",
       "      <td>Female</td>\n",
       "      <td>Yes</td>\n",
       "      <td>No</td>\n",
       "      <td>No</td>\n",
       "      <td>No</td>\n",
       "      <td>Yes</td>\n",
       "      <td>No</td>\n",
       "      <td>No</td>\n",
       "      <td>No</td>\n",
       "      <td>No</td>\n",
       "      <td>Month-to-month</td>\n",
       "      <td>No</td>\n",
       "    </tr>\n",
       "    <tr>\n",
       "      <th>1</th>\n",
       "      <td>Male</td>\n",
       "      <td>No</td>\n",
       "      <td>No</td>\n",
       "      <td>Yes</td>\n",
       "      <td>Yes</td>\n",
       "      <td>No</td>\n",
       "      <td>Yes</td>\n",
       "      <td>No</td>\n",
       "      <td>No</td>\n",
       "      <td>No</td>\n",
       "      <td>One year</td>\n",
       "      <td>No</td>\n",
       "    </tr>\n",
       "    <tr>\n",
       "      <th>2</th>\n",
       "      <td>Male</td>\n",
       "      <td>No</td>\n",
       "      <td>No</td>\n",
       "      <td>Yes</td>\n",
       "      <td>Yes</td>\n",
       "      <td>Yes</td>\n",
       "      <td>No</td>\n",
       "      <td>No</td>\n",
       "      <td>No</td>\n",
       "      <td>No</td>\n",
       "      <td>Month-to-month</td>\n",
       "      <td>Yes</td>\n",
       "    </tr>\n",
       "    <tr>\n",
       "      <th>3</th>\n",
       "      <td>Male</td>\n",
       "      <td>No</td>\n",
       "      <td>No</td>\n",
       "      <td>No</td>\n",
       "      <td>Yes</td>\n",
       "      <td>No</td>\n",
       "      <td>Yes</td>\n",
       "      <td>Yes</td>\n",
       "      <td>No</td>\n",
       "      <td>No</td>\n",
       "      <td>One year</td>\n",
       "      <td>No</td>\n",
       "    </tr>\n",
       "    <tr>\n",
       "      <th>4</th>\n",
       "      <td>Female</td>\n",
       "      <td>No</td>\n",
       "      <td>No</td>\n",
       "      <td>Yes</td>\n",
       "      <td>No</td>\n",
       "      <td>No</td>\n",
       "      <td>No</td>\n",
       "      <td>No</td>\n",
       "      <td>No</td>\n",
       "      <td>No</td>\n",
       "      <td>Month-to-month</td>\n",
       "      <td>Yes</td>\n",
       "    </tr>\n",
       "  </tbody>\n",
       "</table>\n",
       "</div>"
      ],
      "text/plain": [
       "   gender Partner Dependents PhoneService OnlineSecurity OnlineBackup  \\\n",
       "0  Female     Yes         No           No             No          Yes   \n",
       "1    Male      No         No          Yes            Yes           No   \n",
       "2    Male      No         No          Yes            Yes          Yes   \n",
       "3    Male      No         No           No            Yes           No   \n",
       "4  Female      No         No          Yes             No           No   \n",
       "\n",
       "  DeviceProtection TechSupport StreamingTV StreamingMovies        Contract  \\\n",
       "0               No          No          No              No  Month-to-month   \n",
       "1              Yes          No          No              No        One year   \n",
       "2               No          No          No              No  Month-to-month   \n",
       "3              Yes         Yes          No              No        One year   \n",
       "4               No          No          No              No  Month-to-month   \n",
       "\n",
       "  Churn  \n",
       "0    No  \n",
       "1    No  \n",
       "2   Yes  \n",
       "3    No  \n",
       "4   Yes  "
      ]
     },
     "execution_count": 15,
     "metadata": {},
     "output_type": "execute_result"
    }
   ],
   "source": [
    "categoricals = churnData.select_dtypes(np.object)\n",
    "categoricals.head()"
   ]
  },
  {
   "cell_type": "markdown",
   "id": "d8612c6e",
   "metadata": {},
   "source": [
    "#### Encoding binary the nominal categorical data"
   ]
  },
  {
   "cell_type": "code",
   "execution_count": 16,
   "id": "44d02ea1",
   "metadata": {},
   "outputs": [],
   "source": [
    "nominal = categoricals.drop(['Contract', 'gender', 'Churn'], axis=1)"
   ]
  },
  {
   "cell_type": "code",
   "execution_count": 17,
   "id": "f68c14db",
   "metadata": {},
   "outputs": [],
   "source": [
    "def encode_nom(df, column_names = []):\n",
    "    encoder = OneHotEncoder(handle_unknown='error').fit(df[column_names])\n",
    "    encoded = encoder.transform(df[column_names]).toarray()\n",
    "    column_names = encoder.get_feature_names()\n",
    "    encoded_df = pd.DataFrame(encoded, columns=column_names)\n",
    "    return encoded_df"
   ]
  },
  {
   "cell_type": "code",
   "execution_count": 18,
   "id": "4b399707",
   "metadata": {},
   "outputs": [
    {
     "data": {
      "text/html": [
       "<div>\n",
       "<style scoped>\n",
       "    .dataframe tbody tr th:only-of-type {\n",
       "        vertical-align: middle;\n",
       "    }\n",
       "\n",
       "    .dataframe tbody tr th {\n",
       "        vertical-align: top;\n",
       "    }\n",
       "\n",
       "    .dataframe thead th {\n",
       "        text-align: right;\n",
       "    }\n",
       "</style>\n",
       "<table border=\"1\" class=\"dataframe\">\n",
       "  <thead>\n",
       "    <tr style=\"text-align: right;\">\n",
       "      <th></th>\n",
       "      <th>x0_No</th>\n",
       "      <th>x0_Yes</th>\n",
       "      <th>x1_No</th>\n",
       "      <th>x1_Yes</th>\n",
       "      <th>x2_No</th>\n",
       "      <th>x2_Yes</th>\n",
       "      <th>x3_No</th>\n",
       "      <th>x3_No internet service</th>\n",
       "      <th>x3_Yes</th>\n",
       "      <th>x4_No</th>\n",
       "      <th>...</th>\n",
       "      <th>x5_Yes</th>\n",
       "      <th>x6_No</th>\n",
       "      <th>x6_No internet service</th>\n",
       "      <th>x6_Yes</th>\n",
       "      <th>x7_No</th>\n",
       "      <th>x7_No internet service</th>\n",
       "      <th>x7_Yes</th>\n",
       "      <th>x8_No</th>\n",
       "      <th>x8_No internet service</th>\n",
       "      <th>x8_Yes</th>\n",
       "    </tr>\n",
       "  </thead>\n",
       "  <tbody>\n",
       "    <tr>\n",
       "      <th>0</th>\n",
       "      <td>0.0</td>\n",
       "      <td>1.0</td>\n",
       "      <td>1.0</td>\n",
       "      <td>0.0</td>\n",
       "      <td>1.0</td>\n",
       "      <td>0.0</td>\n",
       "      <td>1.0</td>\n",
       "      <td>0.0</td>\n",
       "      <td>0.0</td>\n",
       "      <td>0.0</td>\n",
       "      <td>...</td>\n",
       "      <td>0.0</td>\n",
       "      <td>1.0</td>\n",
       "      <td>0.0</td>\n",
       "      <td>0.0</td>\n",
       "      <td>1.0</td>\n",
       "      <td>0.0</td>\n",
       "      <td>0.0</td>\n",
       "      <td>1.0</td>\n",
       "      <td>0.0</td>\n",
       "      <td>0.0</td>\n",
       "    </tr>\n",
       "    <tr>\n",
       "      <th>1</th>\n",
       "      <td>1.0</td>\n",
       "      <td>0.0</td>\n",
       "      <td>1.0</td>\n",
       "      <td>0.0</td>\n",
       "      <td>0.0</td>\n",
       "      <td>1.0</td>\n",
       "      <td>0.0</td>\n",
       "      <td>0.0</td>\n",
       "      <td>1.0</td>\n",
       "      <td>1.0</td>\n",
       "      <td>...</td>\n",
       "      <td>1.0</td>\n",
       "      <td>1.0</td>\n",
       "      <td>0.0</td>\n",
       "      <td>0.0</td>\n",
       "      <td>1.0</td>\n",
       "      <td>0.0</td>\n",
       "      <td>0.0</td>\n",
       "      <td>1.0</td>\n",
       "      <td>0.0</td>\n",
       "      <td>0.0</td>\n",
       "    </tr>\n",
       "    <tr>\n",
       "      <th>2</th>\n",
       "      <td>1.0</td>\n",
       "      <td>0.0</td>\n",
       "      <td>1.0</td>\n",
       "      <td>0.0</td>\n",
       "      <td>0.0</td>\n",
       "      <td>1.0</td>\n",
       "      <td>0.0</td>\n",
       "      <td>0.0</td>\n",
       "      <td>1.0</td>\n",
       "      <td>0.0</td>\n",
       "      <td>...</td>\n",
       "      <td>0.0</td>\n",
       "      <td>1.0</td>\n",
       "      <td>0.0</td>\n",
       "      <td>0.0</td>\n",
       "      <td>1.0</td>\n",
       "      <td>0.0</td>\n",
       "      <td>0.0</td>\n",
       "      <td>1.0</td>\n",
       "      <td>0.0</td>\n",
       "      <td>0.0</td>\n",
       "    </tr>\n",
       "    <tr>\n",
       "      <th>3</th>\n",
       "      <td>1.0</td>\n",
       "      <td>0.0</td>\n",
       "      <td>1.0</td>\n",
       "      <td>0.0</td>\n",
       "      <td>1.0</td>\n",
       "      <td>0.0</td>\n",
       "      <td>0.0</td>\n",
       "      <td>0.0</td>\n",
       "      <td>1.0</td>\n",
       "      <td>1.0</td>\n",
       "      <td>...</td>\n",
       "      <td>1.0</td>\n",
       "      <td>0.0</td>\n",
       "      <td>0.0</td>\n",
       "      <td>1.0</td>\n",
       "      <td>1.0</td>\n",
       "      <td>0.0</td>\n",
       "      <td>0.0</td>\n",
       "      <td>1.0</td>\n",
       "      <td>0.0</td>\n",
       "      <td>0.0</td>\n",
       "    </tr>\n",
       "    <tr>\n",
       "      <th>4</th>\n",
       "      <td>1.0</td>\n",
       "      <td>0.0</td>\n",
       "      <td>1.0</td>\n",
       "      <td>0.0</td>\n",
       "      <td>0.0</td>\n",
       "      <td>1.0</td>\n",
       "      <td>1.0</td>\n",
       "      <td>0.0</td>\n",
       "      <td>0.0</td>\n",
       "      <td>1.0</td>\n",
       "      <td>...</td>\n",
       "      <td>0.0</td>\n",
       "      <td>1.0</td>\n",
       "      <td>0.0</td>\n",
       "      <td>0.0</td>\n",
       "      <td>1.0</td>\n",
       "      <td>0.0</td>\n",
       "      <td>0.0</td>\n",
       "      <td>1.0</td>\n",
       "      <td>0.0</td>\n",
       "      <td>0.0</td>\n",
       "    </tr>\n",
       "  </tbody>\n",
       "</table>\n",
       "<p>5 rows × 24 columns</p>\n",
       "</div>"
      ],
      "text/plain": [
       "   x0_No  x0_Yes  x1_No  x1_Yes  x2_No  x2_Yes  x3_No  x3_No internet service  \\\n",
       "0    0.0     1.0    1.0     0.0    1.0     0.0    1.0                     0.0   \n",
       "1    1.0     0.0    1.0     0.0    0.0     1.0    0.0                     0.0   \n",
       "2    1.0     0.0    1.0     0.0    0.0     1.0    0.0                     0.0   \n",
       "3    1.0     0.0    1.0     0.0    1.0     0.0    0.0                     0.0   \n",
       "4    1.0     0.0    1.0     0.0    0.0     1.0    1.0                     0.0   \n",
       "\n",
       "   x3_Yes  x4_No  ...  x5_Yes  x6_No  x6_No internet service  x6_Yes  x7_No  \\\n",
       "0     0.0    0.0  ...     0.0    1.0                     0.0     0.0    1.0   \n",
       "1     1.0    1.0  ...     1.0    1.0                     0.0     0.0    1.0   \n",
       "2     1.0    0.0  ...     0.0    1.0                     0.0     0.0    1.0   \n",
       "3     1.0    1.0  ...     1.0    0.0                     0.0     1.0    1.0   \n",
       "4     0.0    1.0  ...     0.0    1.0                     0.0     0.0    1.0   \n",
       "\n",
       "   x7_No internet service  x7_Yes  x8_No  x8_No internet service  x8_Yes  \n",
       "0                     0.0     0.0    1.0                     0.0     0.0  \n",
       "1                     0.0     0.0    1.0                     0.0     0.0  \n",
       "2                     0.0     0.0    1.0                     0.0     0.0  \n",
       "3                     0.0     0.0    1.0                     0.0     0.0  \n",
       "4                     0.0     0.0    1.0                     0.0     0.0  \n",
       "\n",
       "[5 rows x 24 columns]"
      ]
     },
     "execution_count": 18,
     "metadata": {},
     "output_type": "execute_result"
    }
   ],
   "source": [
    "nominal = encode_nom(nominal, column_names = nominal.columns)\n",
    "nominal.head()"
   ]
  },
  {
   "cell_type": "markdown",
   "id": "72e6a33a",
   "metadata": {},
   "source": [
    "#### Encoding the other nominal categorical data"
   ]
  },
  {
   "cell_type": "code",
   "execution_count": 19,
   "id": "924a8ffd",
   "metadata": {},
   "outputs": [],
   "source": [
    "other = categoricals[['Contract', 'gender']]"
   ]
  },
  {
   "cell_type": "code",
   "execution_count": 20,
   "id": "a14d8a04",
   "metadata": {},
   "outputs": [
    {
     "data": {
      "text/plain": [
       "(array(['Month-to-month', 'One year', 'Two year'], dtype=object),\n",
       " array(['Female', 'Male'], dtype=object))"
      ]
     },
     "execution_count": 20,
     "metadata": {},
     "output_type": "execute_result"
    }
   ],
   "source": [
    "other.Contract.unique(), other.gender.unique()"
   ]
  },
  {
   "cell_type": "code",
   "execution_count": 21,
   "id": "eebe9ff8",
   "metadata": {},
   "outputs": [
    {
     "data": {
      "text/html": [
       "<div>\n",
       "<style scoped>\n",
       "    .dataframe tbody tr th:only-of-type {\n",
       "        vertical-align: middle;\n",
       "    }\n",
       "\n",
       "    .dataframe tbody tr th {\n",
       "        vertical-align: top;\n",
       "    }\n",
       "\n",
       "    .dataframe thead th {\n",
       "        text-align: right;\n",
       "    }\n",
       "</style>\n",
       "<table border=\"1\" class=\"dataframe\">\n",
       "  <thead>\n",
       "    <tr style=\"text-align: right;\">\n",
       "      <th></th>\n",
       "      <th>Contract</th>\n",
       "      <th>gender</th>\n",
       "    </tr>\n",
       "  </thead>\n",
       "  <tbody>\n",
       "    <tr>\n",
       "      <th>0</th>\n",
       "      <td>0</td>\n",
       "      <td>1</td>\n",
       "    </tr>\n",
       "    <tr>\n",
       "      <th>1</th>\n",
       "      <td>1</td>\n",
       "      <td>0</td>\n",
       "    </tr>\n",
       "    <tr>\n",
       "      <th>2</th>\n",
       "      <td>0</td>\n",
       "      <td>0</td>\n",
       "    </tr>\n",
       "    <tr>\n",
       "      <th>3</th>\n",
       "      <td>1</td>\n",
       "      <td>0</td>\n",
       "    </tr>\n",
       "    <tr>\n",
       "      <th>4</th>\n",
       "      <td>0</td>\n",
       "      <td>1</td>\n",
       "    </tr>\n",
       "  </tbody>\n",
       "</table>\n",
       "</div>"
      ],
      "text/plain": [
       "  Contract gender\n",
       "0        0      1\n",
       "1        1      0\n",
       "2        0      0\n",
       "3        1      0\n",
       "4        0      1"
      ]
     },
     "execution_count": 21,
     "metadata": {},
     "output_type": "execute_result"
    }
   ],
   "source": [
    "other['Contract'] = other['Contract'].apply(lambda x: x.replace('Month-to-month', '0') if x.startswith('M')\n",
    "                                                     else x.replace('One year', '1') if x.startswith('O')\n",
    "                                                     else x.replace('Two year', '2') if x.startswith('T')\n",
    "                                                     else x)\n",
    "other['gender'] = other['gender'].apply(lambda x: x.replace('Male', '0') if x.startswith('M')\n",
    "                                                     else x.replace('Female', '1') if x.startswith('F')\n",
    "                                                     else x)\n",
    "other.head()"
   ]
  },
  {
   "cell_type": "markdown",
   "id": "87d08c92",
   "metadata": {},
   "source": [
    "##### Concatening the dataframes"
   ]
  },
  {
   "cell_type": "code",
   "execution_count": 22,
   "id": "6501a0ee",
   "metadata": {},
   "outputs": [
    {
     "data": {
      "text/plain": [
       "((7043, 2), (7043, 24), (7043, 4))"
      ]
     },
     "execution_count": 22,
     "metadata": {},
     "output_type": "execute_result"
    }
   ],
   "source": [
    "other.shape, nominal.shape, X.shape"
   ]
  },
  {
   "cell_type": "code",
   "execution_count": 23,
   "id": "5601635c",
   "metadata": {},
   "outputs": [
    {
     "data": {
      "text/html": [
       "<div>\n",
       "<style scoped>\n",
       "    .dataframe tbody tr th:only-of-type {\n",
       "        vertical-align: middle;\n",
       "    }\n",
       "\n",
       "    .dataframe tbody tr th {\n",
       "        vertical-align: top;\n",
       "    }\n",
       "\n",
       "    .dataframe thead th {\n",
       "        text-align: right;\n",
       "    }\n",
       "</style>\n",
       "<table border=\"1\" class=\"dataframe\">\n",
       "  <thead>\n",
       "    <tr style=\"text-align: right;\">\n",
       "      <th></th>\n",
       "      <th>tenure</th>\n",
       "      <th>MonthlyCharges</th>\n",
       "      <th>TotalCharges</th>\n",
       "      <th>SeniorCitizen</th>\n",
       "      <th>x0_No</th>\n",
       "      <th>x0_Yes</th>\n",
       "      <th>x1_No</th>\n",
       "      <th>x1_Yes</th>\n",
       "      <th>x2_No</th>\n",
       "      <th>x2_Yes</th>\n",
       "      <th>...</th>\n",
       "      <th>x6_No internet service</th>\n",
       "      <th>x6_Yes</th>\n",
       "      <th>x7_No</th>\n",
       "      <th>x7_No internet service</th>\n",
       "      <th>x7_Yes</th>\n",
       "      <th>x8_No</th>\n",
       "      <th>x8_No internet service</th>\n",
       "      <th>x8_Yes</th>\n",
       "      <th>Contract</th>\n",
       "      <th>gender</th>\n",
       "    </tr>\n",
       "  </thead>\n",
       "  <tbody>\n",
       "    <tr>\n",
       "      <th>0</th>\n",
       "      <td>-1.277445</td>\n",
       "      <td>-1.160323</td>\n",
       "      <td>-0.994017</td>\n",
       "      <td>0</td>\n",
       "      <td>0.0</td>\n",
       "      <td>1.0</td>\n",
       "      <td>1.0</td>\n",
       "      <td>0.0</td>\n",
       "      <td>1.0</td>\n",
       "      <td>0.0</td>\n",
       "      <td>...</td>\n",
       "      <td>0.0</td>\n",
       "      <td>0.0</td>\n",
       "      <td>1.0</td>\n",
       "      <td>0.0</td>\n",
       "      <td>0.0</td>\n",
       "      <td>1.0</td>\n",
       "      <td>0.0</td>\n",
       "      <td>0.0</td>\n",
       "      <td>0</td>\n",
       "      <td>1</td>\n",
       "    </tr>\n",
       "    <tr>\n",
       "      <th>1</th>\n",
       "      <td>0.066327</td>\n",
       "      <td>-0.259629</td>\n",
       "      <td>-0.173124</td>\n",
       "      <td>0</td>\n",
       "      <td>1.0</td>\n",
       "      <td>0.0</td>\n",
       "      <td>1.0</td>\n",
       "      <td>0.0</td>\n",
       "      <td>0.0</td>\n",
       "      <td>1.0</td>\n",
       "      <td>...</td>\n",
       "      <td>0.0</td>\n",
       "      <td>0.0</td>\n",
       "      <td>1.0</td>\n",
       "      <td>0.0</td>\n",
       "      <td>0.0</td>\n",
       "      <td>1.0</td>\n",
       "      <td>0.0</td>\n",
       "      <td>0.0</td>\n",
       "      <td>1</td>\n",
       "      <td>0</td>\n",
       "    </tr>\n",
       "    <tr>\n",
       "      <th>2</th>\n",
       "      <td>-1.236724</td>\n",
       "      <td>-0.362660</td>\n",
       "      <td>-0.959453</td>\n",
       "      <td>0</td>\n",
       "      <td>1.0</td>\n",
       "      <td>0.0</td>\n",
       "      <td>1.0</td>\n",
       "      <td>0.0</td>\n",
       "      <td>0.0</td>\n",
       "      <td>1.0</td>\n",
       "      <td>...</td>\n",
       "      <td>0.0</td>\n",
       "      <td>0.0</td>\n",
       "      <td>1.0</td>\n",
       "      <td>0.0</td>\n",
       "      <td>0.0</td>\n",
       "      <td>1.0</td>\n",
       "      <td>0.0</td>\n",
       "      <td>0.0</td>\n",
       "      <td>0</td>\n",
       "      <td>0</td>\n",
       "    </tr>\n",
       "    <tr>\n",
       "      <th>3</th>\n",
       "      <td>0.514251</td>\n",
       "      <td>-0.746535</td>\n",
       "      <td>-0.194644</td>\n",
       "      <td>0</td>\n",
       "      <td>1.0</td>\n",
       "      <td>0.0</td>\n",
       "      <td>1.0</td>\n",
       "      <td>0.0</td>\n",
       "      <td>1.0</td>\n",
       "      <td>0.0</td>\n",
       "      <td>...</td>\n",
       "      <td>0.0</td>\n",
       "      <td>1.0</td>\n",
       "      <td>1.0</td>\n",
       "      <td>0.0</td>\n",
       "      <td>0.0</td>\n",
       "      <td>1.0</td>\n",
       "      <td>0.0</td>\n",
       "      <td>0.0</td>\n",
       "      <td>1</td>\n",
       "      <td>0</td>\n",
       "    </tr>\n",
       "    <tr>\n",
       "      <th>4</th>\n",
       "      <td>-1.236724</td>\n",
       "      <td>0.197365</td>\n",
       "      <td>-0.940251</td>\n",
       "      <td>0</td>\n",
       "      <td>1.0</td>\n",
       "      <td>0.0</td>\n",
       "      <td>1.0</td>\n",
       "      <td>0.0</td>\n",
       "      <td>0.0</td>\n",
       "      <td>1.0</td>\n",
       "      <td>...</td>\n",
       "      <td>0.0</td>\n",
       "      <td>0.0</td>\n",
       "      <td>1.0</td>\n",
       "      <td>0.0</td>\n",
       "      <td>0.0</td>\n",
       "      <td>1.0</td>\n",
       "      <td>0.0</td>\n",
       "      <td>0.0</td>\n",
       "      <td>0</td>\n",
       "      <td>1</td>\n",
       "    </tr>\n",
       "  </tbody>\n",
       "</table>\n",
       "<p>5 rows × 30 columns</p>\n",
       "</div>"
      ],
      "text/plain": [
       "     tenure  MonthlyCharges  TotalCharges SeniorCitizen  x0_No  x0_Yes  x1_No  \\\n",
       "0 -1.277445       -1.160323     -0.994017             0    0.0     1.0    1.0   \n",
       "1  0.066327       -0.259629     -0.173124             0    1.0     0.0    1.0   \n",
       "2 -1.236724       -0.362660     -0.959453             0    1.0     0.0    1.0   \n",
       "3  0.514251       -0.746535     -0.194644             0    1.0     0.0    1.0   \n",
       "4 -1.236724        0.197365     -0.940251             0    1.0     0.0    1.0   \n",
       "\n",
       "   x1_Yes  x2_No  x2_Yes  ...  x6_No internet service  x6_Yes  x7_No  \\\n",
       "0     0.0    1.0     0.0  ...                     0.0     0.0    1.0   \n",
       "1     0.0    0.0     1.0  ...                     0.0     0.0    1.0   \n",
       "2     0.0    0.0     1.0  ...                     0.0     0.0    1.0   \n",
       "3     0.0    1.0     0.0  ...                     0.0     1.0    1.0   \n",
       "4     0.0    0.0     1.0  ...                     0.0     0.0    1.0   \n",
       "\n",
       "   x7_No internet service  x7_Yes  x8_No  x8_No internet service  x8_Yes  \\\n",
       "0                     0.0     0.0    1.0                     0.0     0.0   \n",
       "1                     0.0     0.0    1.0                     0.0     0.0   \n",
       "2                     0.0     0.0    1.0                     0.0     0.0   \n",
       "3                     0.0     0.0    1.0                     0.0     0.0   \n",
       "4                     0.0     0.0    1.0                     0.0     0.0   \n",
       "\n",
       "   Contract  gender  \n",
       "0         0       1  \n",
       "1         1       0  \n",
       "2         0       0  \n",
       "3         1       0  \n",
       "4         0       1  \n",
       "\n",
       "[5 rows x 30 columns]"
      ]
     },
     "execution_count": 23,
     "metadata": {},
     "output_type": "execute_result"
    }
   ],
   "source": [
    "other.reset_index(drop=True, inplace=True)\n",
    "nominal.reset_index(drop=True, inplace=True)\n",
    "X.reset_index(drop=True, inplace=True)\n",
    "\n",
    "X2 = pd.concat([X, nominal, other], axis=1)\n",
    "X2.head()"
   ]
  },
  {
   "cell_type": "markdown",
   "id": "a3f36cd9",
   "metadata": {},
   "source": [
    "### Splitting the target"
   ]
  },
  {
   "cell_type": "code",
   "execution_count": 24,
   "id": "dac91b28",
   "metadata": {},
   "outputs": [
    {
     "data": {
      "text/html": [
       "<div>\n",
       "<style scoped>\n",
       "    .dataframe tbody tr th:only-of-type {\n",
       "        vertical-align: middle;\n",
       "    }\n",
       "\n",
       "    .dataframe tbody tr th {\n",
       "        vertical-align: top;\n",
       "    }\n",
       "\n",
       "    .dataframe thead th {\n",
       "        text-align: right;\n",
       "    }\n",
       "</style>\n",
       "<table border=\"1\" class=\"dataframe\">\n",
       "  <thead>\n",
       "    <tr style=\"text-align: right;\">\n",
       "      <th></th>\n",
       "      <th>Churn</th>\n",
       "    </tr>\n",
       "  </thead>\n",
       "  <tbody>\n",
       "    <tr>\n",
       "      <th>0</th>\n",
       "      <td>0</td>\n",
       "    </tr>\n",
       "    <tr>\n",
       "      <th>1</th>\n",
       "      <td>0</td>\n",
       "    </tr>\n",
       "    <tr>\n",
       "      <th>2</th>\n",
       "      <td>1</td>\n",
       "    </tr>\n",
       "    <tr>\n",
       "      <th>3</th>\n",
       "      <td>0</td>\n",
       "    </tr>\n",
       "    <tr>\n",
       "      <th>4</th>\n",
       "      <td>1</td>\n",
       "    </tr>\n",
       "  </tbody>\n",
       "</table>\n",
       "</div>"
      ],
      "text/plain": [
       "   Churn\n",
       "0      0\n",
       "1      0\n",
       "2      1\n",
       "3      0\n",
       "4      1"
      ]
     },
     "execution_count": 24,
     "metadata": {},
     "output_type": "execute_result"
    }
   ],
   "source": [
    "target = churnData[['Churn']]\n",
    "target['Churn'] = target['Churn'].map(dict(Yes=1, No=0))\n",
    "y = target['Churn']\n",
    "target.head()"
   ]
  },
  {
   "cell_type": "markdown",
   "id": "a12ccc0a",
   "metadata": {},
   "source": [
    "## Modeling"
   ]
  },
  {
   "cell_type": "markdown",
   "id": "e368b1ee",
   "metadata": {},
   "source": [
    "### Logistic Regression"
   ]
  },
  {
   "cell_type": "code",
   "execution_count": 25,
   "id": "4ad295a2",
   "metadata": {},
   "outputs": [],
   "source": [
    "def modeling(y, X, models=[], test_size=0.3):\n",
    "    for model in models:\n",
    "        X_train, X_test, y_train, y_test = train_test_split(X, y, test_size=test_size, random_state=42)\n",
    "        model.fit(X_train, y_train)\n",
    "        y_pred_class = model.predict(X_test)\n",
    "        model_count = pd.Series(y_pred_class).value_counts()\n",
    "        data_count = y_test.value_counts()\n",
    "        matrix = confusion_matrix(y_test, y_pred_class)\n",
    "        print(model, ': ')\n",
    "        print(model_count, '\\n')\n",
    "        print('The data count is: ', data_count, '\\n')\n",
    "        print('The matrix is: ', matrix)\n",
    "        print('\\n')\n",
    "    return model, y_pred_class, y_test, X_test\n",
    "\n",
    "def modeling(y, X, models=[], test_size=0.3):\n",
    "    for model in models:\n",
    "        X_train, X_test, y_train, y_test = train_test_split(X, y, test_size=test_size, random_state=42)\n",
    "        model.fit(X_train, y_train)\n",
    "        y_pred_class = model.predict(X_test)\n",
    "        model_count = pd.Series(y_pred_class).value_counts()\n",
    "        data_count = y_test.value_counts()\n",
    "        matrix = confusion_matrix(y_test, y_pred_class)\n",
    "        print(model, ': ')\n",
    "        print(model_count, '\\n')\n",
    "        print('The data count is: ', data_count, '\\n')\n",
    "        print('The matrix is: ', matrix)\n",
    "        print('\\n')\n",
    "    return model, y_pred_class, y_test, X_test\n",
    "\n",
    "def model_accuracy(y_test, y_pred_class):\n",
    "    confusion = confusion_matrix(y_test, y_pred_class)\n",
    "    TP = confusion[1, 1]\n",
    "    TN = confusion[0, 0]\n",
    "    FP = confusion[0, 1]\n",
    "    FN = confusion[1, 0]\n",
    "    print(\"Classifier accuracy is: \", round((TP + TN) / float(TP + TN + FP + FN), 2))\n",
    "    sensitivity = round(TP / float(FN + TP), 2)\n",
    "    print(\"The model sensitivity is: \", sensitivity)\n",
    "    false_negative_rate = round(FN / float( FN + TP), 2)\n",
    "    print(\"The model's false negative rate is: \", false_negative_rate)\n",
    "    specificity = round(TN / (TN + FP), 2)\n",
    "    print(\"The model specificity is: \", specificity)\n",
    "    false_positive_rate = round(FP / float(TN + FP), 2)\n",
    "    print(\"The model's false_positive_rate is: \", false_positive_rate)\n",
    "    return confusion\n",
    "\n",
    "def matrix_graph(confusion):\n",
    "    graph = sns.heatmap(confusion, annot=True,fmt='g')\n",
    "    return graph\n",
    "\n",
    "def model_scores(model, X_test, y_test, y_pred_class):\n",
    "    score = model.score(X_test, y_test)\n",
    "    report = classification_report(y_test, y_pred_class)\n",
    "    print('The model score is: ', round(model.score(X_test, y_test),4), '\\n')\n",
    "    print('The report is: \\n', classification_report(y_test, y_pred_class))\n",
    "    return score, report\n",
    "\n",
    "def roc_graph(y_test, X_test, model):\n",
    "    logit_roc_auc = metrics.roc_auc_score(y_test, model.predict(X_test))\n",
    "    fpr, tpr, thresholds = metrics.roc_curve(y_test, model.predict_proba(X_test)[:,1])\n",
    "    plt.figure()\n",
    "    plt.plot(fpr, tpr, label='ROC curve (area = %0.2f)' % logit_roc_auc)\n",
    "    plt.plot([0, 1], [0, 1],'r--')\n",
    "    plt.xlim([0.0, 1.0])\n",
    "    plt.ylim([0.0, 1.05])\n",
    "    plt.xlabel('False Positive Rate')\n",
    "    plt.ylabel('True Positive Rate')\n",
    "    plt.title('Receiver operating characteristic')\n",
    "    plt.legend(loc=\"lower right\")\n",
    "    plt.show()\n",
    "\n",
    "def diff_df(y_test, y_pred_class):\n",
    "    results = pd.DataFrame()\n",
    "    results['true'] = y_test\n",
    "    results['pred'] = y_pred_class\n",
    "    results['difference'] = results.apply(lambda x: 'true'if (x['true'] == x['pred']) else 'false', axis=1)\n",
    "    results = results.sort_values('difference', ascending=True)\n",
    "    return results"
   ]
  },
  {
   "cell_type": "code",
   "execution_count": 26,
   "id": "14f34604",
   "metadata": {},
   "outputs": [
    {
     "name": "stdout",
     "output_type": "stream",
     "text": [
      "LogisticRegression() : \n",
      "0    809\n",
      "1    248\n",
      "dtype: int64 \n",
      "\n",
      "The data count is:  0    775\n",
      "1    282\n",
      "Name: Churn, dtype: int64 \n",
      "\n",
      "The matrix is:  [[695  80]\n",
      " [114 168]]\n",
      "\n",
      "\n"
     ]
    }
   ],
   "source": [
    "model, y_pred_class, y_test, X_test = modeling(y, X2, models = [LogisticRegression(multi_class='auto')], test_size=0.15)"
   ]
  },
  {
   "cell_type": "markdown",
   "id": "d762d504",
   "metadata": {},
   "source": [
    "### Evaluating the model"
   ]
  },
  {
   "cell_type": "code",
   "execution_count": 27,
   "id": "6fc9e874",
   "metadata": {},
   "outputs": [
    {
     "name": "stdout",
     "output_type": "stream",
     "text": [
      "Classifier accuracy is:  0.82\n",
      "The model sensitivity is:  0.6\n",
      "The model's false negative rate is:  0.4\n",
      "The model specificity is:  0.9\n",
      "The model's false_positive_rate is:  0.1\n"
     ]
    },
    {
     "data": {
      "text/plain": [
       "array([[695,  80],\n",
       "       [114, 168]], dtype=int64)"
      ]
     },
     "execution_count": 27,
     "metadata": {},
     "output_type": "execute_result"
    }
   ],
   "source": [
    "accuracy = model_accuracy(y_test, y_pred_class)\n",
    "accuracy"
   ]
  },
  {
   "cell_type": "code",
   "execution_count": 28,
   "id": "3d0f00e6",
   "metadata": {},
   "outputs": [
    {
     "data": {
      "text/plain": [
       "<AxesSubplot:>"
      ]
     },
     "execution_count": 28,
     "metadata": {},
     "output_type": "execute_result"
    },
    {
     "data": {
      "image/png": "[encoded data removed]",
      "text/plain": [
       "<Figure size 432x288 with 2 Axes>"
      ]
     },
     "metadata": {
      "needs_background": "light"
     },
     "output_type": "display_data"
    }
   ],
   "source": [
    "confusion_matrix_1 = matrix_graph(accuracy)\n",
    "confusion_matrix_1"
   ]
  },
  {
   "cell_type": "code",
   "execution_count": 29,
   "id": "f25a22c6",
   "metadata": {},
   "outputs": [
    {
     "name": "stdout",
     "output_type": "stream",
     "text": [
      "The model score is:  0.8165 \n",
      "\n",
      "The report is: \n",
      "               precision    recall  f1-score   support\n",
      "\n",
      "           0       0.86      0.90      0.88       775\n",
      "           1       0.68      0.60      0.63       282\n",
      "\n",
      "    accuracy                           0.82      1057\n",
      "   macro avg       0.77      0.75      0.76      1057\n",
      "weighted avg       0.81      0.82      0.81      1057\n",
      "\n"
     ]
    }
   ],
   "source": [
    "score, report = model_scores(model, X_test, y_test, y_pred_class)"
   ]
  },
  {
   "cell_type": "code",
   "execution_count": 30,
   "id": "593a5fff",
   "metadata": {},
   "outputs": [
    {
     "data": {
      "image/png": "[encoded data removed]",
      "text/plain": [
       "<Figure size 432x288 with 1 Axes>"
      ]
     },
     "metadata": {
      "needs_background": "light"
     },
     "output_type": "display_data"
    }
   ],
   "source": [
    "roc_curve = roc_graph(y_test, X_test, model)"
   ]
  },
  {
   "cell_type": "markdown",
   "id": "b346729c",
   "metadata": {},
   "source": [
    "### Checking the Data Imbalance"
   ]
  },
  {
   "cell_type": "code",
   "execution_count": 31,
   "id": "9393e47b",
   "metadata": {},
   "outputs": [
    {
     "data": {
      "text/plain": [
       "Churn\n",
       "0        5174\n",
       "1        1869\n",
       "dtype: int64"
      ]
     },
     "execution_count": 31,
     "metadata": {},
     "output_type": "execute_result"
    }
   ],
   "source": [
    "target.value_counts()"
   ]
  },
  {
   "cell_type": "markdown",
   "id": "8b60764a",
   "metadata": {},
   "source": [
    "The **No** is the **majority class**: 5174 data points \\\n",
    "The **Yes** is the **minority class**: 1869 data points"
   ]
  },
  {
   "cell_type": "markdown",
   "id": "85eed829",
   "metadata": {},
   "source": [
    "## Upsampling with SMOTE"
   ]
  },
  {
   "cell_type": "code",
   "execution_count": 32,
   "id": "a401fd1b",
   "metadata": {},
   "outputs": [],
   "source": [
    "def smote_modeling(X, y, models = [], target='offer_accepted', test_size=0.3):\n",
    "    os = SMOTE(random_state=0)\n",
    "    X_smote_train, X_smote_test, y_smote_train, y_smote_test = train_test_split(X, y, test_size=test_size, random_state=42)\n",
    "    columns = X_smote_train.columns\n",
    "    os_data_X,os_data_y = os.fit_resample(X_smote_train, y_smote_train)\n",
    "    os_data_X = pd.DataFrame(data=os_data_X,columns=columns )\n",
    "    os_data_y = pd.DataFrame(data=os_data_y,columns=[target])\n",
    "    y_smote = os_data_y[target]\n",
    "    print(\"length of oversampled data is \",len(os_data_X))\n",
    "    print(\"Number of No in oversampled data\",len(os_data_y[os_data_y[target]==0]))\n",
    "    print(\"Number of Yes\",len(os_data_y[os_data_y[target]==1]))\n",
    "    print(\"Proportion of No in oversampled data is \",len(os_data_y[os_data_y[target]==0])/len(os_data_X))\n",
    "    print(\"Proportion of Yes data in oversampled data is \",len(os_data_y[os_data_y[target]==1])/len(os_data_X))\n",
    "    print('\\n')\n",
    "    smodel = model.fit(os_data_X, os_data_y )\n",
    "    y_smote_pred_class = smodel.predict(X_smote_test)\n",
    "    smodel_count = pd.Series(y_smote_pred_class).value_counts()\n",
    "    smote_data_count = y_smote_test.value_counts()\n",
    "    print(smodel, 'is: \\n')\n",
    "    print('model count is:')\n",
    "    print(smodel_count)\n",
    "    print('\\n')\n",
    "    print('data count is:')\n",
    "    print(smote_data_count)\n",
    "    print('\\n')\n",
    "    return os_data_X, os_data_y, y_smote, smodel, X_smote_test, y_smote_test, y_smote_pred_class"
   ]
  },
  {
   "cell_type": "code",
   "execution_count": 33,
   "id": "2522f604",
   "metadata": {},
   "outputs": [
    {
     "name": "stdout",
     "output_type": "stream",
     "text": [
      "length of oversampled data is  8798\n",
      "Number of No in oversampled data 4399\n",
      "Number of Yes 4399\n",
      "Proportion of No in oversampled data is  0.5\n",
      "Proportion of Yes data in oversampled data is  0.5\n",
      "\n",
      "\n",
      "LogisticRegression() is: \n",
      "\n",
      "model count is:\n",
      "0    623\n",
      "1    434\n",
      "dtype: int64\n",
      "\n",
      "\n",
      "data count is:\n",
      "0    775\n",
      "1    282\n",
      "Name: Churn, dtype: int64\n",
      "\n",
      "\n"
     ]
    }
   ],
   "source": [
    "os_data_X1, os_data_y1, y_smote1, smodel1, X_smote_test1, y_smote_test1, y_smote_pred_class1 = smote_modeling(X2, y, models = [LogisticRegression(multi_class='auto')], target='Churn', test_size=0.15)"
   ]
  },
  {
   "cell_type": "markdown",
   "id": "ea42d33c",
   "metadata": {},
   "source": [
    "### Evaluating the model to which the upsampling of the minority class"
   ]
  },
  {
   "cell_type": "code",
   "execution_count": 34,
   "id": "7279377d",
   "metadata": {},
   "outputs": [
    {
     "name": "stdout",
     "output_type": "stream",
     "text": [
      "Classifier accuracy is:  0.76\n",
      "The model sensitivity is:  0.81\n",
      "The model's false negative rate is:  0.19\n",
      "The model specificity is:  0.74\n",
      "The model's false_positive_rate is:  0.26\n"
     ]
    },
    {
     "data": {
      "text/plain": [
       "array([[570, 205],\n",
       "       [ 53, 229]], dtype=int64)"
      ]
     },
     "execution_count": 34,
     "metadata": {},
     "output_type": "execute_result"
    }
   ],
   "source": [
    "accuracy_s = model_accuracy(y_smote_test1, y_smote_pred_class1)\n",
    "accuracy_s"
   ]
  },
  {
   "cell_type": "code",
   "execution_count": 35,
   "id": "fb515b78",
   "metadata": {},
   "outputs": [
    {
     "data": {
      "image/png": "[encoded data removed]",
      "text/plain": [
       "<Figure size 432x288 with 2 Axes>"
      ]
     },
     "metadata": {
      "needs_background": "light"
     },
     "output_type": "display_data"
    }
   ],
   "source": [
    "matrix_graph_s = matrix_graph(accuracy_s)"
   ]
  },
  {
   "cell_type": "code",
   "execution_count": 36,
   "id": "1f947dd1",
   "metadata": {},
   "outputs": [
    {
     "name": "stdout",
     "output_type": "stream",
     "text": [
      "The model score is:  0.7559 \n",
      "\n",
      "The report is: \n",
      "               precision    recall  f1-score   support\n",
      "\n",
      "           0       0.91      0.74      0.82       775\n",
      "           1       0.53      0.81      0.64       282\n",
      "\n",
      "    accuracy                           0.76      1057\n",
      "   macro avg       0.72      0.77      0.73      1057\n",
      "weighted avg       0.81      0.76      0.77      1057\n",
      "\n"
     ]
    }
   ],
   "source": [
    "score_s1, report_s1 = model_scores(smodel1, X_smote_test1, y_smote_test1, y_smote_pred_class1)"
   ]
  },
  {
   "cell_type": "code",
   "execution_count": 37,
   "id": "a628fa2a",
   "metadata": {},
   "outputs": [
    {
     "data": {
      "image/png": "[encoded data removed]",
      "text/plain": [
       "<Figure size 432x288 with 1 Axes>"
      ]
     },
     "metadata": {
      "needs_background": "light"
     },
     "output_type": "display_data"
    }
   ],
   "source": [
    "roc_curve_s = roc_graph(y_smote_test1, X_smote_test1, smodel1)"
   ]
  },
  {
   "cell_type": "markdown",
   "id": "e0868ba4",
   "metadata": {},
   "source": [
    "## Combining upsampling technique with downsampling technique to remove noise"
   ]
  },
  {
   "cell_type": "markdown",
   "id": "a87d502f",
   "metadata": {},
   "source": [
    "### Smote-EEN technique"
   ]
  },
  {
   "cell_type": "code",
   "execution_count": 38,
   "id": "82d3993c",
   "metadata": {},
   "outputs": [],
   "source": [
    "def SENN_modeling(X, y, models = [], target='offer_accepted', test_size=0.3):\n",
    "    smote_enn = SMOTEENN(random_state=0)\n",
    "    X_SENN_train, X_SENN_test, y_SENN_train, y_SENN_test = train_test_split(X, y, test_size=test_size, random_state=42)\n",
    "    columns = X_SENN_train.columns\n",
    "    SENN_data_X,SENN_data_y = smote_enn.fit_resample(X_SENN_train, y_SENN_train)\n",
    "    SENN_data_X = pd.DataFrame(data=SENN_data_X,columns=columns )\n",
    "    SENN_data_y = pd.DataFrame(data=SENN_data_y,columns=[target])\n",
    "    y_SENN = SENN_data_y[target]\n",
    "    SENN_model = model.fit(SENN_data_X, SENN_data_y )\n",
    "    y_SENN_pred_class = SENN_model.predict(X_SENN_test)\n",
    "    SENN_model_count = pd.Series(y_SENN_pred_class).value_counts()\n",
    "    SENN_data_count = y_SENN_test.value_counts()\n",
    "    print(SENN_model, 'is: \\n')\n",
    "    print('model count is:')\n",
    "    print(SENN_model_count)\n",
    "    print('\\n')\n",
    "    print('data count is:')\n",
    "    print(SENN_data_count)\n",
    "    print('\\n')\n",
    "    return SENN_data_X, SENN_data_y, y_SENN, SENN_model, X_SENN_test, y_SENN_test, y_SENN_pred_class"
   ]
  },
  {
   "cell_type": "code",
   "execution_count": 39,
   "id": "9a97e9de",
   "metadata": {},
   "outputs": [
    {
     "name": "stdout",
     "output_type": "stream",
     "text": [
      "LogisticRegression() is: \n",
      "\n",
      "model count is:\n",
      "0    496\n",
      "1    420\n",
      "dtype: int64\n",
      "\n",
      "\n",
      "data count is:\n",
      "0    672\n",
      "1    244\n",
      "Name: Churn, dtype: int64\n",
      "\n",
      "\n"
     ]
    }
   ],
   "source": [
    "SENN_data_X1, SENN_data_y1, y_SENN1, SENN_model1, X_SENN_test1, y_SENN_test1, y_SENN_pred_class1 = SENN_modeling(X2, y, models = [LogisticRegression(multi_class='auto')], target='Churn', test_size=0.13)"
   ]
  },
  {
   "cell_type": "markdown",
   "id": "d421ca04",
   "metadata": {},
   "source": [
    "### Evaluating the Smote-EEN model"
   ]
  },
  {
   "cell_type": "code",
   "execution_count": 40,
   "id": "b15e1764",
   "metadata": {},
   "outputs": [
    {
     "name": "stdout",
     "output_type": "stream",
     "text": [
      "Classifier accuracy is:  0.73\n",
      "The model sensitivity is:  0.86\n",
      "The model's false negative rate is:  0.14\n",
      "The model specificity is:  0.69\n",
      "The model's false_positive_rate is:  0.31\n"
     ]
    },
    {
     "data": {
      "text/plain": [
       "array([[461, 211],\n",
       "       [ 35, 209]], dtype=int64)"
      ]
     },
     "execution_count": 40,
     "metadata": {},
     "output_type": "execute_result"
    }
   ],
   "source": [
    "accuracy_SENN1 = model_accuracy(y_SENN_test1, y_SENN_pred_class1)\n",
    "accuracy_SENN1 "
   ]
  },
  {
   "cell_type": "code",
   "execution_count": 41,
   "id": "a8671ecd",
   "metadata": {},
   "outputs": [
    {
     "data": {
      "image/png": "[encoded data removed]",
      "text/plain": [
       "<Figure size 432x288 with 2 Axes>"
      ]
     },
     "metadata": {
      "needs_background": "light"
     },
     "output_type": "display_data"
    }
   ],
   "source": [
    "matrix_graph_SENN1 = matrix_graph(accuracy_SENN1)"
   ]
  },
  {
   "cell_type": "code",
   "execution_count": 42,
   "id": "98a3f917",
   "metadata": {},
   "outputs": [
    {
     "name": "stdout",
     "output_type": "stream",
     "text": [
      "The model score is:  0.7314 \n",
      "\n",
      "The report is: \n",
      "               precision    recall  f1-score   support\n",
      "\n",
      "           0       0.93      0.69      0.79       672\n",
      "           1       0.50      0.86      0.63       244\n",
      "\n",
      "    accuracy                           0.73       916\n",
      "   macro avg       0.71      0.77      0.71       916\n",
      "weighted avg       0.81      0.73      0.75       916\n",
      "\n"
     ]
    }
   ],
   "source": [
    "score_SENN1, report_SENN1 = model_scores(SENN_model1, X_SENN_test1, y_SENN_test1, y_SENN_pred_class1)"
   ]
  },
  {
   "cell_type": "code",
   "execution_count": 43,
   "id": "37667505",
   "metadata": {},
   "outputs": [
    {
     "data": {
      "image/png": "[encoded data removed]",
      "text/plain": [
       "<Figure size 432x288 with 1 Axes>"
      ]
     },
     "metadata": {
      "needs_background": "light"
     },
     "output_type": "display_data"
    }
   ],
   "source": [
    "roc_curve_SENN1 = roc_graph(y_SENN_test1, X_SENN_test1, SENN_model1)"
   ]
  },
  {
   "cell_type": "markdown",
   "id": "bea39bee",
   "metadata": {},
   "source": [
    "### Smote-Tomek technique"
   ]
  },
  {
   "cell_type": "code",
   "execution_count": 44,
   "id": "8c99e037",
   "metadata": {},
   "outputs": [],
   "source": [
    "def smote_tomek(X, y, models = [], target='offer_accepted', test_size=0.3):\n",
    "    smote_tomek = SMOTETomek(random_state=0)\n",
    "    X_ST_train, X_ST_test, y_ST_train, y_ST_test = train_test_split(X, y, test_size=test_size, random_state=42)\n",
    "    columns = X_ST_train.columns\n",
    "    ST_data_X,ST_data_y = smote_tomek.fit_resample(X_ST_train, y_ST_train)\n",
    "    ST_data_X = pd.DataFrame(data=ST_data_X,columns=columns )\n",
    "    ST_data_y = pd.DataFrame(data=ST_data_y,columns=[target])\n",
    "    y_ST = ST_data_y[target]\n",
    "    ST_model = model.fit(ST_data_X, ST_data_y )\n",
    "    y_ST_pred_class = ST_model.predict(X_ST_test)\n",
    "    ST_model_count = pd.Series(y_ST_pred_class).value_counts()\n",
    "    ST_data_count = y_ST_test.value_counts()\n",
    "    print(ST_model, 'is: \\n')\n",
    "    print('model count is:')\n",
    "    print(ST_model_count)\n",
    "    print('\\n')\n",
    "    print('data count is:')\n",
    "    print(ST_data_count)\n",
    "    print('\\n')\n",
    "    return ST_data_X, ST_data_y, y_ST, ST_model, X_ST_test, y_ST_test, y_ST_pred_class"
   ]
  },
  {
   "cell_type": "code",
   "execution_count": 45,
   "id": "df7f6b45",
   "metadata": {},
   "outputs": [
    {
     "name": "stdout",
     "output_type": "stream",
     "text": [
      "LogisticRegression() is: \n",
      "\n",
      "model count is:\n",
      "0    623\n",
      "1    434\n",
      "dtype: int64\n",
      "\n",
      "\n",
      "data count is:\n",
      "0    775\n",
      "1    282\n",
      "Name: Churn, dtype: int64\n",
      "\n",
      "\n"
     ]
    }
   ],
   "source": [
    "ST_data_X1, ST_data_y1, y_ST1, ST_model1, X_ST_test1, y_ST_test1, y_ST_pred_class1 = smote_tomek(X2, y, models = [LogisticRegression(multi_class='auto')], target='Churn', test_size=0.15)"
   ]
  },
  {
   "cell_type": "markdown",
   "id": "01ee3774",
   "metadata": {},
   "source": [
    "### Evaluating the Smote-Tomek model "
   ]
  },
  {
   "cell_type": "code",
   "execution_count": 46,
   "id": "a97068ee",
   "metadata": {},
   "outputs": [
    {
     "name": "stdout",
     "output_type": "stream",
     "text": [
      "Classifier accuracy is:  0.76\n",
      "The model sensitivity is:  0.81\n",
      "The model's false negative rate is:  0.19\n",
      "The model specificity is:  0.74\n",
      "The model's false_positive_rate is:  0.26\n"
     ]
    },
    {
     "data": {
      "text/plain": [
       "array([[570, 205],\n",
       "       [ 53, 229]], dtype=int64)"
      ]
     },
     "execution_count": 46,
     "metadata": {},
     "output_type": "execute_result"
    }
   ],
   "source": [
    "accuracy_ST1 = model_accuracy(y_ST_test1, y_ST_pred_class1)\n",
    "accuracy_ST1 "
   ]
  },
  {
   "cell_type": "code",
   "execution_count": 47,
   "id": "88ab17d6",
   "metadata": {},
   "outputs": [
    {
     "data": {
      "image/png": "[encoded data removed]",
      "text/plain": [
       "<Figure size 432x288 with 2 Axes>"
      ]
     },
     "metadata": {
      "needs_background": "light"
     },
     "output_type": "display_data"
    }
   ],
   "source": [
    "matrix_graph_ST1 = matrix_graph(accuracy_ST1)"
   ]
  },
  {
   "cell_type": "code",
   "execution_count": 48,
   "id": "bcbd0f81",
   "metadata": {},
   "outputs": [
    {
     "name": "stdout",
     "output_type": "stream",
     "text": [
      "The model score is:  0.7559 \n",
      "\n",
      "The report is: \n",
      "               precision    recall  f1-score   support\n",
      "\n",
      "           0       0.91      0.74      0.82       775\n",
      "           1       0.53      0.81      0.64       282\n",
      "\n",
      "    accuracy                           0.76      1057\n",
      "   macro avg       0.72      0.77      0.73      1057\n",
      "weighted avg       0.81      0.76      0.77      1057\n",
      "\n"
     ]
    }
   ],
   "source": [
    "score_ST1, report_ST1 = model_scores(ST_model1, X_ST_test1, y_ST_test1, y_ST_pred_class1)"
   ]
  },
  {
   "cell_type": "code",
   "execution_count": 49,
   "id": "31d170f5",
   "metadata": {},
   "outputs": [
    {
     "data": {
      "image/png": "[encoded data removed]",
      "text/plain": [
       "<Figure size 432x288 with 1 Axes>"
      ]
     },
     "metadata": {
      "needs_background": "light"
     },
     "output_type": "display_data"
    }
   ],
   "source": [
    "roc_curve_ST1 = roc_graph(y_ST_test1, X_ST_test1, ST_model1)"
   ]
  },
  {
   "cell_type": "markdown",
   "id": "ff04fef3",
   "metadata": {},
   "source": [
    "# Lab | Cross Validation"
   ]
  },
  {
   "cell_type": "markdown",
   "id": "6387208e",
   "metadata": {},
   "source": [
    "**Instructions**\n",
    "\n",
    "1. Apply SMOTE for upsampling the data\n",
    "\n",
    "    - Use logistic regression to fit the model and compute the accuracy of the model.\n",
    "    - Use decision tree classifier to fit the model and compute the accuracy of the model.\n",
    "    - Compare the accuracies of the two models.\n",
    "\n",
    "\n",
    "2. Apply TomekLinks for downsampling\n",
    "\n",
    "    - It is important to remember that it does not make the two classes equal but only removes the points from the majority class that are close to other points in minority class.\n",
    "    - Use logistic regression to fit the model and compute the accuracy of the model.\n",
    "    - Use decision tree classifier to fit the model and compute the accuracy of the model.\n",
    "    - Compare the accuracies of the two models.\n",
    "    - You can also apply this algorithm one more time and check the how the imbalance in the two classes changed from the last time."
   ]
  },
  {
   "cell_type": "markdown",
   "id": "5979d406",
   "metadata": {},
   "source": [
    "## Decision Tree"
   ]
  },
  {
   "cell_type": "markdown",
   "id": "da3adde6",
   "metadata": {},
   "source": [
    "#### Upsampling with SMOTE"
   ]
  },
  {
   "cell_type": "code",
   "execution_count": 50,
   "id": "23f87269",
   "metadata": {},
   "outputs": [],
   "source": [
    "X_train, X_test, y_train, y_test = train_test_split(X2, y, test_size = 0.3, random_state = 42)\n",
    "os = SMOTE(random_state=0)\n",
    "columns = X_train.columns\n",
    "sm_data_X, sm_data_y = os.fit_resample(X_train, y_train)\n",
    "sm_data_X = pd.DataFrame(data=sm_data_X,columns=columns )\n",
    "sm_data_y = pd.DataFrame(data=sm_data_y)\n",
    "y_sm = sm_data_y['Churn']"
   ]
  },
  {
   "cell_type": "code",
   "execution_count": 51,
   "id": "56844e0d",
   "metadata": {},
   "outputs": [
    {
     "data": {
      "text/html": [
       "<div>\n",
       "<style scoped>\n",
       "    .dataframe tbody tr th:only-of-type {\n",
       "        vertical-align: middle;\n",
       "    }\n",
       "\n",
       "    .dataframe tbody tr th {\n",
       "        vertical-align: top;\n",
       "    }\n",
       "\n",
       "    .dataframe thead th {\n",
       "        text-align: right;\n",
       "    }\n",
       "</style>\n",
       "<table border=\"1\" class=\"dataframe\">\n",
       "  <thead>\n",
       "    <tr style=\"text-align: right;\">\n",
       "      <th></th>\n",
       "      <th>tenure</th>\n",
       "      <th>MonthlyCharges</th>\n",
       "      <th>TotalCharges</th>\n",
       "      <th>SeniorCitizen</th>\n",
       "      <th>x0_No</th>\n",
       "      <th>x0_Yes</th>\n",
       "      <th>x1_No</th>\n",
       "      <th>x1_Yes</th>\n",
       "      <th>x2_No</th>\n",
       "      <th>x2_Yes</th>\n",
       "      <th>...</th>\n",
       "      <th>x6_No internet service</th>\n",
       "      <th>x6_Yes</th>\n",
       "      <th>x7_No</th>\n",
       "      <th>x7_No internet service</th>\n",
       "      <th>x7_Yes</th>\n",
       "      <th>x8_No</th>\n",
       "      <th>x8_No internet service</th>\n",
       "      <th>x8_Yes</th>\n",
       "      <th>Contract</th>\n",
       "      <th>gender</th>\n",
       "    </tr>\n",
       "  </thead>\n",
       "  <tbody>\n",
       "    <tr>\n",
       "      <th>0</th>\n",
       "      <td>0.880735</td>\n",
       "      <td>0.197365</td>\n",
       "      <td>0.656972</td>\n",
       "      <td>0.0</td>\n",
       "      <td>0.0</td>\n",
       "      <td>1.0</td>\n",
       "      <td>0.0</td>\n",
       "      <td>1.0</td>\n",
       "      <td>0.0</td>\n",
       "      <td>1.0</td>\n",
       "      <td>...</td>\n",
       "      <td>0.0</td>\n",
       "      <td>1.000000</td>\n",
       "      <td>0.0</td>\n",
       "      <td>0.0</td>\n",
       "      <td>1.0</td>\n",
       "      <td>1.0</td>\n",
       "      <td>0.0</td>\n",
       "      <td>0.0</td>\n",
       "      <td>1.0</td>\n",
       "      <td>0.0</td>\n",
       "    </tr>\n",
       "    <tr>\n",
       "      <th>1</th>\n",
       "      <td>-1.277445</td>\n",
       "      <td>0.524739</td>\n",
       "      <td>-0.971636</td>\n",
       "      <td>0.0</td>\n",
       "      <td>1.0</td>\n",
       "      <td>0.0</td>\n",
       "      <td>1.0</td>\n",
       "      <td>0.0</td>\n",
       "      <td>0.0</td>\n",
       "      <td>1.0</td>\n",
       "      <td>...</td>\n",
       "      <td>0.0</td>\n",
       "      <td>0.000000</td>\n",
       "      <td>0.0</td>\n",
       "      <td>0.0</td>\n",
       "      <td>1.0</td>\n",
       "      <td>1.0</td>\n",
       "      <td>0.0</td>\n",
       "      <td>0.0</td>\n",
       "      <td>0.0</td>\n",
       "      <td>0.0</td>\n",
       "    </tr>\n",
       "    <tr>\n",
       "      <th>2</th>\n",
       "      <td>-0.788800</td>\n",
       "      <td>-1.510962</td>\n",
       "      <td>-0.892578</td>\n",
       "      <td>0.0</td>\n",
       "      <td>1.0</td>\n",
       "      <td>0.0</td>\n",
       "      <td>1.0</td>\n",
       "      <td>0.0</td>\n",
       "      <td>0.0</td>\n",
       "      <td>1.0</td>\n",
       "      <td>...</td>\n",
       "      <td>1.0</td>\n",
       "      <td>0.000000</td>\n",
       "      <td>0.0</td>\n",
       "      <td>1.0</td>\n",
       "      <td>0.0</td>\n",
       "      <td>0.0</td>\n",
       "      <td>1.0</td>\n",
       "      <td>0.0</td>\n",
       "      <td>1.0</td>\n",
       "      <td>0.0</td>\n",
       "    </tr>\n",
       "    <tr>\n",
       "      <th>3</th>\n",
       "      <td>-0.340876</td>\n",
       "      <td>1.056514</td>\n",
       "      <td>-0.008054</td>\n",
       "      <td>1.0</td>\n",
       "      <td>0.0</td>\n",
       "      <td>1.0</td>\n",
       "      <td>0.0</td>\n",
       "      <td>1.0</td>\n",
       "      <td>0.0</td>\n",
       "      <td>1.0</td>\n",
       "      <td>...</td>\n",
       "      <td>0.0</td>\n",
       "      <td>0.000000</td>\n",
       "      <td>0.0</td>\n",
       "      <td>0.0</td>\n",
       "      <td>1.0</td>\n",
       "      <td>0.0</td>\n",
       "      <td>0.0</td>\n",
       "      <td>1.0</td>\n",
       "      <td>2.0</td>\n",
       "      <td>1.0</td>\n",
       "    </tr>\n",
       "    <tr>\n",
       "      <th>4</th>\n",
       "      <td>-1.073843</td>\n",
       "      <td>0.310367</td>\n",
       "      <td>-0.808155</td>\n",
       "      <td>1.0</td>\n",
       "      <td>1.0</td>\n",
       "      <td>0.0</td>\n",
       "      <td>1.0</td>\n",
       "      <td>0.0</td>\n",
       "      <td>0.0</td>\n",
       "      <td>1.0</td>\n",
       "      <td>...</td>\n",
       "      <td>0.0</td>\n",
       "      <td>0.000000</td>\n",
       "      <td>1.0</td>\n",
       "      <td>0.0</td>\n",
       "      <td>0.0</td>\n",
       "      <td>1.0</td>\n",
       "      <td>0.0</td>\n",
       "      <td>0.0</td>\n",
       "      <td>0.0</td>\n",
       "      <td>1.0</td>\n",
       "    </tr>\n",
       "    <tr>\n",
       "      <th>...</th>\n",
       "      <td>...</td>\n",
       "      <td>...</td>\n",
       "      <td>...</td>\n",
       "      <td>...</td>\n",
       "      <td>...</td>\n",
       "      <td>...</td>\n",
       "      <td>...</td>\n",
       "      <td>...</td>\n",
       "      <td>...</td>\n",
       "      <td>...</td>\n",
       "      <td>...</td>\n",
       "      <td>...</td>\n",
       "      <td>...</td>\n",
       "      <td>...</td>\n",
       "      <td>...</td>\n",
       "      <td>...</td>\n",
       "      <td>...</td>\n",
       "      <td>...</td>\n",
       "      <td>...</td>\n",
       "      <td>...</td>\n",
       "      <td>...</td>\n",
       "    </tr>\n",
       "    <tr>\n",
       "      <th>7265</th>\n",
       "      <td>0.067724</td>\n",
       "      <td>0.980813</td>\n",
       "      <td>0.414849</td>\n",
       "      <td>0.995713</td>\n",
       "      <td>0.0</td>\n",
       "      <td>1.0</td>\n",
       "      <td>1.0</td>\n",
       "      <td>0.0</td>\n",
       "      <td>0.0</td>\n",
       "      <td>1.0</td>\n",
       "      <td>...</td>\n",
       "      <td>0.0</td>\n",
       "      <td>0.004287</td>\n",
       "      <td>1.0</td>\n",
       "      <td>0.0</td>\n",
       "      <td>0.0</td>\n",
       "      <td>0.0</td>\n",
       "      <td>0.0</td>\n",
       "      <td>1.0</td>\n",
       "      <td>0.0</td>\n",
       "      <td>0.995713</td>\n",
       "    </tr>\n",
       "    <tr>\n",
       "      <th>7266</th>\n",
       "      <td>-0.115108</td>\n",
       "      <td>1.354256</td>\n",
       "      <td>0.373081</td>\n",
       "      <td>1.0</td>\n",
       "      <td>1.0</td>\n",
       "      <td>0.0</td>\n",
       "      <td>1.0</td>\n",
       "      <td>0.0</td>\n",
       "      <td>0.0</td>\n",
       "      <td>1.0</td>\n",
       "      <td>...</td>\n",
       "      <td>0.0</td>\n",
       "      <td>1.000000</td>\n",
       "      <td>0.0</td>\n",
       "      <td>0.0</td>\n",
       "      <td>1.0</td>\n",
       "      <td>0.0</td>\n",
       "      <td>0.0</td>\n",
       "      <td>1.0</td>\n",
       "      <td>0.0</td>\n",
       "      <td>1.0</td>\n",
       "    </tr>\n",
       "    <tr>\n",
       "      <th>7267</th>\n",
       "      <td>-0.435499</td>\n",
       "      <td>0.810568</td>\n",
       "      <td>-0.167356</td>\n",
       "      <td>1.0</td>\n",
       "      <td>1.0</td>\n",
       "      <td>0.0</td>\n",
       "      <td>1.0</td>\n",
       "      <td>0.0</td>\n",
       "      <td>0.0</td>\n",
       "      <td>1.0</td>\n",
       "      <td>...</td>\n",
       "      <td>0.0</td>\n",
       "      <td>0.000000</td>\n",
       "      <td>0.0</td>\n",
       "      <td>0.0</td>\n",
       "      <td>1.0</td>\n",
       "      <td>1.0</td>\n",
       "      <td>0.0</td>\n",
       "      <td>0.0</td>\n",
       "      <td>0.0</td>\n",
       "      <td>1.0</td>\n",
       "    </tr>\n",
       "    <tr>\n",
       "      <th>7268</th>\n",
       "      <td>-0.066923</td>\n",
       "      <td>1.366514</td>\n",
       "      <td>0.485099</td>\n",
       "      <td>1.0</td>\n",
       "      <td>1.0</td>\n",
       "      <td>0.0</td>\n",
       "      <td>1.0</td>\n",
       "      <td>0.0</td>\n",
       "      <td>0.0</td>\n",
       "      <td>1.0</td>\n",
       "      <td>...</td>\n",
       "      <td>0.0</td>\n",
       "      <td>0.000000</td>\n",
       "      <td>0.0</td>\n",
       "      <td>0.0</td>\n",
       "      <td>1.0</td>\n",
       "      <td>0.0</td>\n",
       "      <td>0.0</td>\n",
       "      <td>1.0</td>\n",
       "      <td>0.0</td>\n",
       "      <td>1.0</td>\n",
       "    </tr>\n",
       "    <tr>\n",
       "      <th>7269</th>\n",
       "      <td>0.241421</td>\n",
       "      <td>0.935648</td>\n",
       "      <td>0.583265</td>\n",
       "      <td>0.0</td>\n",
       "      <td>0.0</td>\n",
       "      <td>1.0</td>\n",
       "      <td>0.0</td>\n",
       "      <td>1.0</td>\n",
       "      <td>0.0</td>\n",
       "      <td>1.0</td>\n",
       "      <td>...</td>\n",
       "      <td>0.0</td>\n",
       "      <td>1.000000</td>\n",
       "      <td>0.0</td>\n",
       "      <td>0.0</td>\n",
       "      <td>1.0</td>\n",
       "      <td>0.0</td>\n",
       "      <td>0.0</td>\n",
       "      <td>1.0</td>\n",
       "      <td>1.0</td>\n",
       "      <td>0.0</td>\n",
       "    </tr>\n",
       "  </tbody>\n",
       "</table>\n",
       "<p>7270 rows × 30 columns</p>\n",
       "</div>"
      ],
      "text/plain": [
       "        tenure  MonthlyCharges  TotalCharges SeniorCitizen  x0_No  x0_Yes  \\\n",
       "0     0.880735        0.197365      0.656972           0.0    0.0     1.0   \n",
       "1    -1.277445        0.524739     -0.971636           0.0    1.0     0.0   \n",
       "2    -0.788800       -1.510962     -0.892578           0.0    1.0     0.0   \n",
       "3    -0.340876        1.056514     -0.008054           1.0    0.0     1.0   \n",
       "4    -1.073843        0.310367     -0.808155           1.0    1.0     0.0   \n",
       "...        ...             ...           ...           ...    ...     ...   \n",
       "7265  0.067724        0.980813      0.414849      0.995713    0.0     1.0   \n",
       "7266 -0.115108        1.354256      0.373081           1.0    1.0     0.0   \n",
       "7267 -0.435499        0.810568     -0.167356           1.0    1.0     0.0   \n",
       "7268 -0.066923        1.366514      0.485099           1.0    1.0     0.0   \n",
       "7269  0.241421        0.935648      0.583265           0.0    0.0     1.0   \n",
       "\n",
       "      x1_No  x1_Yes  x2_No  x2_Yes  ...  x6_No internet service    x6_Yes  \\\n",
       "0       0.0     1.0    0.0     1.0  ...                     0.0  1.000000   \n",
       "1       1.0     0.0    0.0     1.0  ...                     0.0  0.000000   \n",
       "2       1.0     0.0    0.0     1.0  ...                     1.0  0.000000   \n",
       "3       0.0     1.0    0.0     1.0  ...                     0.0  0.000000   \n",
       "4       1.0     0.0    0.0     1.0  ...                     0.0  0.000000   \n",
       "...     ...     ...    ...     ...  ...                     ...       ...   \n",
       "7265    1.0     0.0    0.0     1.0  ...                     0.0  0.004287   \n",
       "7266    1.0     0.0    0.0     1.0  ...                     0.0  1.000000   \n",
       "7267    1.0     0.0    0.0     1.0  ...                     0.0  0.000000   \n",
       "7268    1.0     0.0    0.0     1.0  ...                     0.0  0.000000   \n",
       "7269    0.0     1.0    0.0     1.0  ...                     0.0  1.000000   \n",
       "\n",
       "      x7_No  x7_No internet service  x7_Yes  x8_No  x8_No internet service  \\\n",
       "0       0.0                     0.0     1.0    1.0                     0.0   \n",
       "1       0.0                     0.0     1.0    1.0                     0.0   \n",
       "2       0.0                     1.0     0.0    0.0                     1.0   \n",
       "3       0.0                     0.0     1.0    0.0                     0.0   \n",
       "4       1.0                     0.0     0.0    1.0                     0.0   \n",
       "...     ...                     ...     ...    ...                     ...   \n",
       "7265    1.0                     0.0     0.0    0.0                     0.0   \n",
       "7266    0.0                     0.0     1.0    0.0                     0.0   \n",
       "7267    0.0                     0.0     1.0    1.0                     0.0   \n",
       "7268    0.0                     0.0     1.0    0.0                     0.0   \n",
       "7269    0.0                     0.0     1.0    0.0                     0.0   \n",
       "\n",
       "      x8_Yes  Contract    gender  \n",
       "0        0.0       1.0       0.0  \n",
       "1        0.0       0.0       0.0  \n",
       "2        0.0       1.0       0.0  \n",
       "3        1.0       2.0       1.0  \n",
       "4        0.0       0.0       1.0  \n",
       "...      ...       ...       ...  \n",
       "7265     1.0       0.0  0.995713  \n",
       "7266     1.0       0.0       1.0  \n",
       "7267     0.0       0.0       1.0  \n",
       "7268     1.0       0.0       1.0  \n",
       "7269     1.0       1.0       0.0  \n",
       "\n",
       "[7270 rows x 30 columns]"
      ]
     },
     "execution_count": 51,
     "metadata": {},
     "output_type": "execute_result"
    }
   ],
   "source": [
    "sm_data_X"
   ]
  },
  {
   "cell_type": "code",
   "execution_count": 52,
   "id": "dcc23a62",
   "metadata": {},
   "outputs": [
    {
     "data": {
      "text/plain": [
       "0       0\n",
       "1       0\n",
       "2       0\n",
       "3       0\n",
       "4       0\n",
       "       ..\n",
       "7265    1\n",
       "7266    1\n",
       "7267    1\n",
       "7268    1\n",
       "7269    1\n",
       "Name: Churn, Length: 7270, dtype: int64"
      ]
     },
     "execution_count": 52,
     "metadata": {},
     "output_type": "execute_result"
    }
   ],
   "source": [
    "y_sm"
   ]
  },
  {
   "cell_type": "markdown",
   "id": "75544981",
   "metadata": {},
   "source": [
    "#### Using the Decision Tree Classifier"
   ]
  },
  {
   "cell_type": "code",
   "execution_count": 53,
   "id": "e5380997",
   "metadata": {},
   "outputs": [],
   "source": [
    "dtc = DecisionTreeClassifier(criterion='entropy', max_depth=10, random_state=0)\n",
    "dtc.fit(sm_data_X, sm_data_y)\n",
    "y_pred_class_dtc = dtc.predict(X_test)"
   ]
  },
  {
   "cell_type": "markdown",
   "id": "2066b1c5",
   "metadata": {},
   "source": [
    "#### Evaluating the Decision Tree Classifier"
   ]
  },
  {
   "cell_type": "code",
   "execution_count": 54,
   "id": "339a2aa8",
   "metadata": {},
   "outputs": [
    {
     "name": "stdout",
     "output_type": "stream",
     "text": [
      "Classifier accuracy is:  0.73\n",
      "The model sensitivity is:  0.73\n",
      "The model's false negative rate is:  0.27\n",
      "The model specificity is:  0.72\n",
      "The model's false_positive_rate is:  0.28\n"
     ]
    },
    {
     "data": {
      "text/plain": [
       "array([[1111,  428],\n",
       "       [ 153,  421]], dtype=int64)"
      ]
     },
     "execution_count": 54,
     "metadata": {},
     "output_type": "execute_result"
    }
   ],
   "source": [
    "accuracy_dtc1 = model_accuracy(y_test, y_pred_class_dtc)\n",
    "accuracy_dtc1 "
   ]
  },
  {
   "cell_type": "code",
   "execution_count": 55,
   "id": "f6d05c6b",
   "metadata": {},
   "outputs": [
    {
     "data": {
      "image/png": "[encoded data removed]",
      "text/plain": [
       "<Figure size 432x288 with 2 Axes>"
      ]
     },
     "metadata": {
      "needs_background": "light"
     },
     "output_type": "display_data"
    }
   ],
   "source": [
    "matrix_graph_dtc1 = matrix_graph(accuracy_dtc1)"
   ]
  },
  {
   "cell_type": "code",
   "execution_count": 56,
   "id": "2a1211d1",
   "metadata": {},
   "outputs": [
    {
     "name": "stdout",
     "output_type": "stream",
     "text": [
      "The model score is:  0.725 \n",
      "\n",
      "The report is: \n",
      "               precision    recall  f1-score   support\n",
      "\n",
      "           0       0.88      0.72      0.79      1539\n",
      "           1       0.50      0.73      0.59       574\n",
      "\n",
      "    accuracy                           0.73      2113\n",
      "   macro avg       0.69      0.73      0.69      2113\n",
      "weighted avg       0.77      0.73      0.74      2113\n",
      "\n"
     ]
    }
   ],
   "source": [
    "score_dtc1, report_dtc1 = model_scores(dtc, X_test, y_test, y_pred_class_dtc)"
   ]
  },
  {
   "cell_type": "markdown",
   "id": "67ef93b7",
   "metadata": {},
   "source": [
    "#### Let's compare the Decision Tree Classification report to the Logistic Classifier to which we also applied the same SMOTEENN correction for data imbalance."
   ]
  },
  {
   "cell_type": "code",
   "execution_count": 57,
   "id": "3eccaa13",
   "metadata": {},
   "outputs": [
    {
     "name": "stdout",
     "output_type": "stream",
     "text": [
      "0.7559129612109745               precision    recall  f1-score   support\n",
      "\n",
      "           0       0.91      0.74      0.82       775\n",
      "           1       0.53      0.81      0.64       282\n",
      "\n",
      "    accuracy                           0.76      1057\n",
      "   macro avg       0.72      0.77      0.73      1057\n",
      "weighted avg       0.81      0.76      0.77      1057\n",
      "\n"
     ]
    }
   ],
   "source": [
    "print(score_s1, report_s1)"
   ]
  },
  {
   "cell_type": "code",
   "execution_count": 58,
   "id": "797e228b",
   "metadata": {},
   "outputs": [
    {
     "data": {
      "image/png": "[encoded data removed]",
      "text/plain": [
       "<Figure size 432x288 with 1 Axes>"
      ]
     },
     "metadata": {
      "needs_background": "light"
     },
     "output_type": "display_data"
    }
   ],
   "source": [
    "roc_curve_dtc1 = roc_graph(y_test, X_test, dtc)"
   ]
  },
  {
   "cell_type": "markdown",
   "id": "24a001b1",
   "metadata": {},
   "source": [
    "### Comparing the accuracies of the Decision Tree and the LogisticRegression\n",
    "Overall the Logistic Regression performs better, it has a better precision, recall and f1 score. It's Mean AUC score is also better by 0.4 points."
   ]
  },
  {
   "cell_type": "markdown",
   "id": "a3ef5720",
   "metadata": {},
   "source": [
    "## Decision Tree with Tomek-Links"
   ]
  },
  {
   "cell_type": "markdown",
   "id": "376b82a1",
   "metadata": {},
   "source": [
    "#### Downsampling with Tomek-Links"
   ]
  },
  {
   "cell_type": "code",
   "execution_count": 59,
   "id": "04c02e67",
   "metadata": {},
   "outputs": [],
   "source": [
    "tl = TomekLinks()\n",
    "X_res, y_res = tl.fit_resample(sm_data_X, sm_data_y)"
   ]
  },
  {
   "cell_type": "markdown",
   "id": "5dfdbc03",
   "metadata": {},
   "source": [
    "#### Using the Decision Tree Classifier"
   ]
  },
  {
   "cell_type": "code",
   "execution_count": 60,
   "id": "c51ac87a",
   "metadata": {},
   "outputs": [],
   "source": [
    "dtc2 = dtc.fit(X_res, y_res)\n",
    "y_pred_class_dtc2 = dtc2.predict(X_test)"
   ]
  },
  {
   "cell_type": "markdown",
   "id": "2a92e3b8",
   "metadata": {},
   "source": [
    "#### Evaluating the Decision Tree Model"
   ]
  },
  {
   "cell_type": "code",
   "execution_count": 61,
   "id": "bab9fc63",
   "metadata": {},
   "outputs": [
    {
     "name": "stdout",
     "output_type": "stream",
     "text": [
      "Classifier accuracy is:  0.75\n",
      "The model sensitivity is:  0.71\n",
      "The model's false negative rate is:  0.29\n",
      "The model specificity is:  0.76\n",
      "The model's false_positive_rate is:  0.24\n"
     ]
    },
    {
     "data": {
      "text/plain": [
       "array([[1174,  365],\n",
       "       [ 169,  405]], dtype=int64)"
      ]
     },
     "execution_count": 61,
     "metadata": {},
     "output_type": "execute_result"
    }
   ],
   "source": [
    "accuracy_dtc2 = model_accuracy(y_test, y_pred_class_dtc2)\n",
    "accuracy_dtc2"
   ]
  },
  {
   "cell_type": "code",
   "execution_count": 62,
   "id": "e65de0c1",
   "metadata": {},
   "outputs": [
    {
     "data": {
      "image/png": "[encoded data removed]",
      "text/plain": [
       "<Figure size 432x288 with 2 Axes>"
      ]
     },
     "metadata": {
      "needs_background": "light"
     },
     "output_type": "display_data"
    }
   ],
   "source": [
    "matrix_graph_dtc2 = matrix_graph(accuracy_dtc2)"
   ]
  },
  {
   "cell_type": "code",
   "execution_count": 63,
   "id": "989e3e04",
   "metadata": {},
   "outputs": [
    {
     "name": "stdout",
     "output_type": "stream",
     "text": [
      "The model score is:  0.7473 \n",
      "\n",
      "The report is: \n",
      "               precision    recall  f1-score   support\n",
      "\n",
      "           0       0.87      0.76      0.81      1539\n",
      "           1       0.53      0.71      0.60       574\n",
      "\n",
      "    accuracy                           0.75      2113\n",
      "   macro avg       0.70      0.73      0.71      2113\n",
      "weighted avg       0.78      0.75      0.76      2113\n",
      "\n"
     ]
    }
   ],
   "source": [
    "score_dtc2, report_dtc2 = model_scores(dtc2, X_test, y_test, y_pred_class_dtc2)"
   ]
  },
  {
   "cell_type": "markdown",
   "id": "0f01769d",
   "metadata": {},
   "source": [
    "#### Let's compare the Decision Tree Classification report to the Logistic Classifier to which we also applied the same Smote-Tomek correction for data imbalance, and with the Decision Tree Classification that was only working with upsampled data."
   ]
  },
  {
   "cell_type": "code",
   "execution_count": 64,
   "id": "d55a5402",
   "metadata": {},
   "outputs": [
    {
     "ename": "NameError",
     "evalue": "name 'score_ST' is not defined",
     "output_type": "error",
     "traceback": [
      "\u001b[1;31m---------------------------------------------------------------------------\u001b[0m",
      "\u001b[1;31mNameError\u001b[0m                                 Traceback (most recent call last)",
      "\u001b[1;32m~\\AppData\\Local\\Temp/ipykernel_17540/968999410.py\u001b[0m in \u001b[0;36m<module>\u001b[1;34m\u001b[0m\n\u001b[1;32m----> 1\u001b[1;33m \u001b[0mprint\u001b[0m\u001b[1;33m(\u001b[0m\u001b[1;34m'The smote-tomek LogisticRegression model score is: '\u001b[0m\u001b[1;33m,\u001b[0m \u001b[0mround\u001b[0m\u001b[1;33m(\u001b[0m\u001b[0mscore_ST\u001b[0m\u001b[1;33m,\u001b[0m\u001b[1;36m4\u001b[0m\u001b[1;33m)\u001b[0m\u001b[1;33m,\u001b[0m\u001b[1;34m'\\n'\u001b[0m\u001b[1;33m,\u001b[0m \u001b[0mreport_ST\u001b[0m\u001b[1;33m)\u001b[0m\u001b[1;33m\u001b[0m\u001b[1;33m\u001b[0m\u001b[0m\n\u001b[0m",
      "\u001b[1;31mNameError\u001b[0m: name 'score_ST' is not defined"
     ]
    }
   ],
   "source": [
    "print('The smote-tomek LogisticRegression model score is: ', round(score_ST,4),'\\n', report_ST)"
   ]
  },
  {
   "cell_type": "code",
   "execution_count": 65,
   "id": "568ff1fc",
   "metadata": {},
   "outputs": [
    {
     "name": "stdout",
     "output_type": "stream",
     "text": [
      "The smote upsampled Decision Tree Classifier model score is:  0.725 \n",
      "               precision    recall  f1-score   support\n",
      "\n",
      "           0       0.88      0.72      0.79      1539\n",
      "           1       0.50      0.73      0.59       574\n",
      "\n",
      "    accuracy                           0.73      2113\n",
      "   macro avg       0.69      0.73      0.69      2113\n",
      "weighted avg       0.77      0.73      0.74      2113\n",
      "\n"
     ]
    }
   ],
   "source": [
    "print('The smote upsampled Decision Tree Classifier model score is: ', round(score_dtc1,4),'\\n', report_dtc1)"
   ]
  },
  {
   "cell_type": "code",
   "execution_count": 257,
   "id": "772ab3b7",
   "metadata": {},
   "outputs": [
    {
     "data": {
      "image/png": "[encoded data removed]",
      "text/plain": [
       "<Figure size 432x288 with 1 Axes>"
      ]
     },
     "metadata": {
      "needs_background": "light"
     },
     "output_type": "display_data"
    }
   ],
   "source": [
    "roc_curve_dtc2 = roc_graph(y_test, X_test, dtc2)"
   ]
  },
  {
   "cell_type": "markdown",
   "id": "cd4fb985",
   "metadata": {},
   "source": [
    "### Comparing the accuracies of the Decision Tree Classifier and the LogisticRegression\n",
    "The LogisticRegression still performs better, and downsampling with Tomek-Links yielded worst results for the precision of the 0 class and recall of the 1 class, but better results for theprecision of the 1 class and the recall of the 0 class.\n",
    "So overall not much difference between the two Decision Tree Classifier"
   ]
  },
  {
   "cell_type": "markdown",
   "id": "aecce9b9",
   "metadata": {},
   "source": [
    "### Downsampling one more time with Tomek-Links and running the model"
   ]
  },
  {
   "cell_type": "code",
   "execution_count": 260,
   "id": "9a9ad387",
   "metadata": {},
   "outputs": [
    {
     "name": "stdout",
     "output_type": "stream",
     "text": [
      "Classifier accuracy is:  0.74\n",
      "The model sensitivity is:  0.73\n",
      "The model's false negative rate is:  0.27\n",
      "The model specificity is:  0.75\n",
      "The model's false_positive_rate is:  0.25\n"
     ]
    },
    {
     "data": {
      "image/png": "[encoded data removed]",
      "text/plain": [
       "<Figure size 432x288 with 2 Axes>"
      ]
     },
     "metadata": {
      "needs_background": "light"
     },
     "output_type": "display_data"
    }
   ],
   "source": [
    "X_res2, y_res2 = tl.fit_resample(X_res, y_res)\n",
    "dtc3 = dtc.fit(X_res2, y_res2)\n",
    "y_pred_class_dtc3 = dtc3.predict(X_test)\n",
    "accuracy_dtc3 = model_accuracy(y_test, y_pred_class_dtc3)\n",
    "matrix_graph_dtc3 = matrix_graph(accuracy_dtc3)"
   ]
  },
  {
   "cell_type": "code",
   "execution_count": 263,
   "id": "cdd529ca",
   "metadata": {},
   "outputs": [
    {
     "name": "stdout",
     "output_type": "stream",
     "text": [
      "The once-more Tomek-ed Decision Tree Classifier model score is: \n",
      "The model score is:  0.7449 \n",
      "\n",
      "The report is: \n",
      "               precision    recall  f1-score   support\n",
      "\n",
      "           0       0.88      0.75      0.81      1539\n",
      "           1       0.52      0.73      0.61       574\n",
      "\n",
      "    accuracy                           0.74      2113\n",
      "   macro avg       0.70      0.74      0.71      2113\n",
      "weighted avg       0.78      0.74      0.76      2113\n",
      "\n"
     ]
    },
    {
     "data": {
      "image/png": "[encoded data removed]",
      "text/plain": [
       "<Figure size 432x288 with 1 Axes>"
      ]
     },
     "metadata": {
      "needs_background": "light"
     },
     "output_type": "display_data"
    }
   ],
   "source": [
    "print('The once-more Tomek-ed Decision Tree Classifier model score is: ')\n",
    "score_dtc3, report_dtc3 = model_scores(dtc3, X_test, y_test, y_pred_class_dtc3)\n",
    "roc_curve_dtc3 = roc_graph(y_test, X_test, dtc3)"
   ]
  },
  {
   "cell_type": "markdown",
   "id": "9cea1d7a",
   "metadata": {},
   "source": [
    "## Conclusion\n",
    "\n",
    "Downsampling once more with Tomek-Links give better results."
   ]
  },
  {
   "cell_type": "markdown",
   "id": "96127ff7",
   "metadata": {},
   "source": [
    "### Random Forest"
   ]
  },
  {
   "cell_type": "code",
   "execution_count": 49,
   "id": "6a953a0f",
   "metadata": {},
   "outputs": [],
   "source": [
    "def smote_RF(X, y, models = [], test_size=0.3):\n",
    "    for model in models:\n",
    "        X_train, X_test, y_train, y_test = train_test_split(X, y, test_size=test_size, random_state=42)\n",
    "        sm = SMOTEENN(random_state=42)\n",
    "        X_sm, y_sm = sm.fit_resample(X_train, y_train)\n",
    "        model = model.fit(X_sm, y_sm )\n",
    "        y_pred_class = model.predict(X_test)\n",
    "        print (round(model.score(X_train, y_train),4))\n",
    "        print(round(model.score(X_test, y_test),4))\n",
    "        matrix = metrics.confusion_matrix(y_test, y_pred_class)\n",
    "        features_ranking = pd.DataFrame(model.feature_importances_, index=X_train.columns).sort_values(by=0, ascending=False)\n",
    "        features_ranking = features_ranking.rename(columns={0: 'feature_importance'})\n",
    "    return model, y_pred_class, y_test, X_test, features_ranking, matrix"
   ]
  },
  {
   "cell_type": "code",
   "execution_count": 53,
   "id": "a97947ff",
   "metadata": {},
   "outputs": [
    {
     "name": "stdout",
     "output_type": "stream",
     "text": [
      "0.7899\n",
      "0.7354\n"
     ]
    }
   ],
   "source": [
    "RF_model, RF_y_pred_class, RF_y_test, RF_X_test, RF_features_ranking, RF_matrix = smote_RF(X2, y, models = [RandomForestClassifier()], test_size=0.3)"
   ]
  },
  {
   "cell_type": "markdown",
   "id": "dbd2a318",
   "metadata": {},
   "source": [
    "#### Observations\n",
    "The training accuracy is higher -- 0.7874 than the testing accuracy -- 0.8856. \\\n",
    "This means the model is modeling the training data better and not generalizing as well what it’s learning on the overall sample. "
   ]
  },
  {
   "cell_type": "code",
   "execution_count": 54,
   "id": "b576562c",
   "metadata": {},
   "outputs": [
    {
     "data": {
      "text/html": [
       "<div>\n",
       "<style scoped>\n",
       "    .dataframe tbody tr th:only-of-type {\n",
       "        vertical-align: middle;\n",
       "    }\n",
       "\n",
       "    .dataframe tbody tr th {\n",
       "        vertical-align: top;\n",
       "    }\n",
       "\n",
       "    .dataframe thead th {\n",
       "        text-align: right;\n",
       "    }\n",
       "</style>\n",
       "<table border=\"1\" class=\"dataframe\">\n",
       "  <thead>\n",
       "    <tr style=\"text-align: right;\">\n",
       "      <th></th>\n",
       "      <th>feature_importance</th>\n",
       "    </tr>\n",
       "  </thead>\n",
       "  <tbody>\n",
       "    <tr>\n",
       "      <th>Contract</th>\n",
       "      <td>0.194868</td>\n",
       "    </tr>\n",
       "    <tr>\n",
       "      <th>tenure</th>\n",
       "      <td>0.133218</td>\n",
       "    </tr>\n",
       "    <tr>\n",
       "      <th>x6_No</th>\n",
       "      <td>0.087691</td>\n",
       "    </tr>\n",
       "    <tr>\n",
       "      <th>x3_No</th>\n",
       "      <td>0.086304</td>\n",
       "    </tr>\n",
       "    <tr>\n",
       "      <th>TotalCharges</th>\n",
       "      <td>0.078352</td>\n",
       "    </tr>\n",
       "    <tr>\n",
       "      <th>MonthlyCharges</th>\n",
       "      <td>0.076323</td>\n",
       "    </tr>\n",
       "    <tr>\n",
       "      <th>x4_No</th>\n",
       "      <td>0.034404</td>\n",
       "    </tr>\n",
       "    <tr>\n",
       "      <th>x5_No</th>\n",
       "      <td>0.031347</td>\n",
       "    </tr>\n",
       "    <tr>\n",
       "      <th>x3_Yes</th>\n",
       "      <td>0.029497</td>\n",
       "    </tr>\n",
       "    <tr>\n",
       "      <th>x6_No internet service</th>\n",
       "      <td>0.021052</td>\n",
       "    </tr>\n",
       "    <tr>\n",
       "      <th>x6_Yes</th>\n",
       "      <td>0.017694</td>\n",
       "    </tr>\n",
       "    <tr>\n",
       "      <th>gender</th>\n",
       "      <td>0.017229</td>\n",
       "    </tr>\n",
       "    <tr>\n",
       "      <th>x3_No internet service</th>\n",
       "      <td>0.016958</td>\n",
       "    </tr>\n",
       "    <tr>\n",
       "      <th>SeniorCitizen</th>\n",
       "      <td>0.015269</td>\n",
       "    </tr>\n",
       "    <tr>\n",
       "      <th>x8_No internet service</th>\n",
       "      <td>0.014209</td>\n",
       "    </tr>\n",
       "    <tr>\n",
       "      <th>x5_No internet service</th>\n",
       "      <td>0.013266</td>\n",
       "    </tr>\n",
       "    <tr>\n",
       "      <th>x8_Yes</th>\n",
       "      <td>0.012764</td>\n",
       "    </tr>\n",
       "    <tr>\n",
       "      <th>x1_No</th>\n",
       "      <td>0.011619</td>\n",
       "    </tr>\n",
       "    <tr>\n",
       "      <th>x0_Yes</th>\n",
       "      <td>0.011128</td>\n",
       "    </tr>\n",
       "    <tr>\n",
       "      <th>x8_No</th>\n",
       "      <td>0.010871</td>\n",
       "    </tr>\n",
       "    <tr>\n",
       "      <th>x1_Yes</th>\n",
       "      <td>0.010856</td>\n",
       "    </tr>\n",
       "    <tr>\n",
       "      <th>x7_No internet service</th>\n",
       "      <td>0.010804</td>\n",
       "    </tr>\n",
       "    <tr>\n",
       "      <th>x0_No</th>\n",
       "      <td>0.010257</td>\n",
       "    </tr>\n",
       "    <tr>\n",
       "      <th>x5_Yes</th>\n",
       "      <td>0.009283</td>\n",
       "    </tr>\n",
       "    <tr>\n",
       "      <th>x4_Yes</th>\n",
       "      <td>0.009282</td>\n",
       "    </tr>\n",
       "    <tr>\n",
       "      <th>x4_No internet service</th>\n",
       "      <td>0.009229</td>\n",
       "    </tr>\n",
       "    <tr>\n",
       "      <th>x7_Yes</th>\n",
       "      <td>0.008924</td>\n",
       "    </tr>\n",
       "    <tr>\n",
       "      <th>x7_No</th>\n",
       "      <td>0.008051</td>\n",
       "    </tr>\n",
       "    <tr>\n",
       "      <th>x2_Yes</th>\n",
       "      <td>0.005015</td>\n",
       "    </tr>\n",
       "    <tr>\n",
       "      <th>x2_No</th>\n",
       "      <td>0.004234</td>\n",
       "    </tr>\n",
       "  </tbody>\n",
       "</table>\n",
       "</div>"
      ],
      "text/plain": [
       "                        feature_importance\n",
       "Contract                          0.194868\n",
       "tenure                            0.133218\n",
       "x6_No                             0.087691\n",
       "x3_No                             0.086304\n",
       "TotalCharges                      0.078352\n",
       "MonthlyCharges                    0.076323\n",
       "x4_No                             0.034404\n",
       "x5_No                             0.031347\n",
       "x3_Yes                            0.029497\n",
       "x6_No internet service            0.021052\n",
       "x6_Yes                            0.017694\n",
       "gender                            0.017229\n",
       "x3_No internet service            0.016958\n",
       "SeniorCitizen                     0.015269\n",
       "x8_No internet service            0.014209\n",
       "x5_No internet service            0.013266\n",
       "x8_Yes                            0.012764\n",
       "x1_No                             0.011619\n",
       "x0_Yes                            0.011128\n",
       "x8_No                             0.010871\n",
       "x1_Yes                            0.010856\n",
       "x7_No internet service            0.010804\n",
       "x0_No                             0.010257\n",
       "x5_Yes                            0.009283\n",
       "x4_Yes                            0.009282\n",
       "x4_No internet service            0.009229\n",
       "x7_Yes                            0.008924\n",
       "x7_No                             0.008051\n",
       "x2_Yes                            0.005015\n",
       "x2_No                             0.004234"
      ]
     },
     "execution_count": 54,
     "metadata": {},
     "output_type": "execute_result"
    }
   ],
   "source": [
    "RF_features_ranking"
   ]
  },
  {
   "cell_type": "markdown",
   "id": "31c87a1f",
   "metadata": {},
   "source": [
    "Contract and tenure are significantly more important than the other two features according to RFC ranking."
   ]
  },
  {
   "cell_type": "markdown",
   "id": "a9b8ced2",
   "metadata": {},
   "source": [
    "###### Confusion matrix"
   ]
  },
  {
   "cell_type": "code",
   "execution_count": 55,
   "id": "76472735",
   "metadata": {},
   "outputs": [
    {
     "data": {
      "text/plain": [
       "array([[1104,  435],\n",
       "       [ 124,  450]], dtype=int64)"
      ]
     },
     "execution_count": 55,
     "metadata": {},
     "output_type": "execute_result"
    }
   ],
   "source": [
    "RF_matrix"
   ]
  },
  {
   "cell_type": "markdown",
   "id": "7aebaa5f",
   "metadata": {},
   "source": [
    "True Negative = 1141 \\\n",
    "False Positive = 398\\\n",
    "False Negative = 159\\\n",
    "True Positive = 415"
   ]
  },
  {
   "cell_type": "code",
   "execution_count": 56,
   "id": "81df66e8",
   "metadata": {},
   "outputs": [],
   "source": [
    "# Number of trees in random forest\n",
    "n_estimators = np.linspace(2500, 4500, int((4500-100)/50) + 1, dtype=int)\n",
    "\n",
    "# Number of features to consider at every split\n",
    "max_features = ['auto', 'sqrt']\n",
    "\n",
    "# Maximum number of levels in tree\n",
    "max_depth = [12, 13, 15]\n",
    "\n",
    "# Minimum number of samples required to split a node\n",
    "min_samples_split = [2, 4, 6]\n",
    "\n",
    "# Minimum number of samples required at each leaf node\n",
    "min_samples_leaf = [1, 2, 3]\n",
    "\n",
    "# Method of selecting samples for training each tree\n",
    "bootstrap = [True]\n",
    "\n",
    "# Criterion\n",
    "criterion=['gini']\n",
    "random_grid = {'n_estimators': n_estimators,\n",
    "               'max_features': max_features,\n",
    "               'max_depth': max_depth,\n",
    "               'min_samples_split': min_samples_split,\n",
    "               'min_samples_leaf': min_samples_leaf,\n",
    "               'bootstrap': bootstrap,\n",
    "               'criterion': criterion}"
   ]
  },
  {
   "cell_type": "code",
   "execution_count": 62,
   "id": "66db7ea9",
   "metadata": {},
   "outputs": [
    {
     "name": "stdout",
     "output_type": "stream",
     "text": [
      "Fitting 5 folds for each of 30 candidates, totalling 150 fits\n",
      " \n",
      " 0.7834\n",
      "\n",
      " 0.7373\n"
     ]
    }
   ],
   "source": [
    "X_train, X_test, y_train, y_test = train_test_split(X2, y, test_size=0.3, random_state=42)\n",
    "sm = SMOTEENN(random_state=42)\n",
    "X_sm, y_sm = sm.fit_resample(X_train, y_train)\n",
    "\n",
    "rf_base = RandomForestClassifier()\n",
    "rf_random = RandomizedSearchCV(estimator = rf_base,\n",
    "                               param_distributions = random_grid,\n",
    "                               n_iter = 30, cv = 5,\n",
    "                               verbose=2,\n",
    "                               random_state=42, n_jobs = 4)\n",
    "rf_random.fit(X_sm, y_sm)\n",
    "rf_random.best_params_\n",
    "\n",
    "print (' \\n', round(rf_random.score(X_train, y_train),4))\n",
    "print('\\n', round(rf_random.score(X_test, y_test),4))"
   ]
  },
  {
   "cell_type": "code",
   "execution_count": 63,
   "id": "eb6acced",
   "metadata": {},
   "outputs": [
    {
     "data": {
      "text/plain": [
       "{'n_estimators': 4386,\n",
       " 'min_samples_split': 2,\n",
       " 'min_samples_leaf': 1,\n",
       " 'max_features': 'auto',\n",
       " 'max_depth': 13,\n",
       " 'criterion': 'gini',\n",
       " 'bootstrap': True}"
      ]
     },
     "execution_count": 63,
     "metadata": {},
     "output_type": "execute_result"
    }
   ],
   "source": [
    "rf_random.best_params_"
   ]
  },
  {
   "cell_type": "code",
   "execution_count": 64,
   "id": "7375fda2",
   "metadata": {},
   "outputs": [
    {
     "name": "stdout",
     "output_type": "stream",
     "text": [
      "Confusion Matrix\n",
      "[[1094  445]\n",
      " [ 117  457]]\n",
      "\n",
      "\n",
      "Classification Report\n",
      "              precision    recall  f1-score   support\n",
      "\n",
      "           0       0.90      0.71      0.80      1539\n",
      "           1       0.51      0.80      0.62       574\n",
      "\n",
      "    accuracy                           0.73      2113\n",
      "   macro avg       0.71      0.75      0.71      2113\n",
      "weighted avg       0.80      0.73      0.75      2113\n",
      "\n",
      "\n",
      "\n",
      "All AUC Scores\n",
      "[0.83387876 0.84558049 0.84014515 0.8298823  0.83992387 0.78851664\n",
      " 0.81453056 0.81052245 0.81878691 0.83977906]\n",
      "\n",
      "\n",
      "Mean AUC Score\n",
      "Mean AUC Score - Random Forest:  0.8261546199471261\n"
     ]
    }
   ],
   "source": [
    "rfc = RandomForestClassifier(n_estimators=3181, min_samples_split=2, min_samples_leaf=1, max_depth=13, criterion='gini', bootstrap=True, max_features='sqrt')\n",
    "rfc.fit(X_sm, y_sm)\n",
    "rfc_predict = rfc.predict(X_test)\n",
    "rfc_cv_score = cross_val_score(rfc, X2, y, cv=10, scoring='roc_auc')\n",
    "print('Confusion Matrix')\n",
    "print(confusion_matrix(y_test, rfc_predict))\n",
    "print('\\n')\n",
    "print('Classification Report')\n",
    "print(classification_report(y_test, rfc_predict))\n",
    "print('\\n')\n",
    "print('All AUC Scores')\n",
    "print(rfc_cv_score)\n",
    "print('\\n')\n",
    "print('Mean AUC Score')\n",
    "print('Mean AUC Score - Random Forest: ', rfc_cv_score.mean())"
   ]
  },
  {
   "cell_type": "code",
   "execution_count": 65,
   "id": "f3926b44",
   "metadata": {},
   "outputs": [
    {
     "data": {
      "text/html": [
       "<div>\n",
       "<style scoped>\n",
       "    .dataframe tbody tr th:only-of-type {\n",
       "        vertical-align: middle;\n",
       "    }\n",
       "\n",
       "    .dataframe tbody tr th {\n",
       "        vertical-align: top;\n",
       "    }\n",
       "\n",
       "    .dataframe thead th {\n",
       "        text-align: right;\n",
       "    }\n",
       "</style>\n",
       "<table border=\"1\" class=\"dataframe\">\n",
       "  <thead>\n",
       "    <tr style=\"text-align: right;\">\n",
       "      <th></th>\n",
       "      <th>feature_importance</th>\n",
       "    </tr>\n",
       "  </thead>\n",
       "  <tbody>\n",
       "    <tr>\n",
       "      <th>Contract</th>\n",
       "      <td>0.215605</td>\n",
       "    </tr>\n",
       "    <tr>\n",
       "      <th>tenure</th>\n",
       "      <td>0.119478</td>\n",
       "    </tr>\n",
       "    <tr>\n",
       "      <th>x3_No</th>\n",
       "      <td>0.088961</td>\n",
       "    </tr>\n",
       "    <tr>\n",
       "      <th>x6_No</th>\n",
       "      <td>0.086578</td>\n",
       "    </tr>\n",
       "    <tr>\n",
       "      <th>TotalCharges</th>\n",
       "      <td>0.077598</td>\n",
       "    </tr>\n",
       "    <tr>\n",
       "      <th>MonthlyCharges</th>\n",
       "      <td>0.070154</td>\n",
       "    </tr>\n",
       "    <tr>\n",
       "      <th>x4_No</th>\n",
       "      <td>0.036449</td>\n",
       "    </tr>\n",
       "    <tr>\n",
       "      <th>x3_Yes</th>\n",
       "      <td>0.025549</td>\n",
       "    </tr>\n",
       "    <tr>\n",
       "      <th>x5_No</th>\n",
       "      <td>0.024962</td>\n",
       "    </tr>\n",
       "    <tr>\n",
       "      <th>x6_Yes</th>\n",
       "      <td>0.021509</td>\n",
       "    </tr>\n",
       "    <tr>\n",
       "      <th>gender</th>\n",
       "      <td>0.016409</td>\n",
       "    </tr>\n",
       "    <tr>\n",
       "      <th>x5_No internet service</th>\n",
       "      <td>0.015084</td>\n",
       "    </tr>\n",
       "    <tr>\n",
       "      <th>x8_No internet service</th>\n",
       "      <td>0.014827</td>\n",
       "    </tr>\n",
       "    <tr>\n",
       "      <th>x3_No internet service</th>\n",
       "      <td>0.014680</td>\n",
       "    </tr>\n",
       "    <tr>\n",
       "      <th>x4_No internet service</th>\n",
       "      <td>0.014206</td>\n",
       "    </tr>\n",
       "    <tr>\n",
       "      <th>x7_No internet service</th>\n",
       "      <td>0.013968</td>\n",
       "    </tr>\n",
       "    <tr>\n",
       "      <th>SeniorCitizen</th>\n",
       "      <td>0.013774</td>\n",
       "    </tr>\n",
       "    <tr>\n",
       "      <th>x8_Yes</th>\n",
       "      <td>0.013769</td>\n",
       "    </tr>\n",
       "    <tr>\n",
       "      <th>x6_No internet service</th>\n",
       "      <td>0.013575</td>\n",
       "    </tr>\n",
       "    <tr>\n",
       "      <th>x1_No</th>\n",
       "      <td>0.011954</td>\n",
       "    </tr>\n",
       "    <tr>\n",
       "      <th>x1_Yes</th>\n",
       "      <td>0.011642</td>\n",
       "    </tr>\n",
       "    <tr>\n",
       "      <th>x8_No</th>\n",
       "      <td>0.011203</td>\n",
       "    </tr>\n",
       "    <tr>\n",
       "      <th>x4_Yes</th>\n",
       "      <td>0.010877</td>\n",
       "    </tr>\n",
       "    <tr>\n",
       "      <th>x0_Yes</th>\n",
       "      <td>0.010803</td>\n",
       "    </tr>\n",
       "    <tr>\n",
       "      <th>x0_No</th>\n",
       "      <td>0.010782</td>\n",
       "    </tr>\n",
       "    <tr>\n",
       "      <th>x5_Yes</th>\n",
       "      <td>0.009794</td>\n",
       "    </tr>\n",
       "    <tr>\n",
       "      <th>x7_Yes</th>\n",
       "      <td>0.008481</td>\n",
       "    </tr>\n",
       "    <tr>\n",
       "      <th>x7_No</th>\n",
       "      <td>0.008151</td>\n",
       "    </tr>\n",
       "    <tr>\n",
       "      <th>x2_Yes</th>\n",
       "      <td>0.004603</td>\n",
       "    </tr>\n",
       "    <tr>\n",
       "      <th>x2_No</th>\n",
       "      <td>0.004576</td>\n",
       "    </tr>\n",
       "  </tbody>\n",
       "</table>\n",
       "</div>"
      ],
      "text/plain": [
       "                        feature_importance\n",
       "Contract                          0.215605\n",
       "tenure                            0.119478\n",
       "x3_No                             0.088961\n",
       "x6_No                             0.086578\n",
       "TotalCharges                      0.077598\n",
       "MonthlyCharges                    0.070154\n",
       "x4_No                             0.036449\n",
       "x3_Yes                            0.025549\n",
       "x5_No                             0.024962\n",
       "x6_Yes                            0.021509\n",
       "gender                            0.016409\n",
       "x5_No internet service            0.015084\n",
       "x8_No internet service            0.014827\n",
       "x3_No internet service            0.014680\n",
       "x4_No internet service            0.014206\n",
       "x7_No internet service            0.013968\n",
       "SeniorCitizen                     0.013774\n",
       "x8_Yes                            0.013769\n",
       "x6_No internet service            0.013575\n",
       "x1_No                             0.011954\n",
       "x1_Yes                            0.011642\n",
       "x8_No                             0.011203\n",
       "x4_Yes                            0.010877\n",
       "x0_Yes                            0.010803\n",
       "x0_No                             0.010782\n",
       "x5_Yes                            0.009794\n",
       "x7_Yes                            0.008481\n",
       "x7_No                             0.008151\n",
       "x2_Yes                            0.004603\n",
       "x2_No                             0.004576"
      ]
     },
     "execution_count": 65,
     "metadata": {},
     "output_type": "execute_result"
    }
   ],
   "source": [
    "features_ranking = pd.DataFrame(rfc.feature_importances_, index=X_train.columns).sort_values(by=0, ascending=False)\n",
    "features_ranking = features_ranking.rename(columns={0: 'feature_importance'})\n",
    "features_ranking"
   ]
  },
  {
   "cell_type": "code",
   "execution_count": 66,
   "id": "e9389519",
   "metadata": {},
   "outputs": [
    {
     "data": {
      "image/png": "[encoded data removed]",
      "text/plain": [
       "<Figure size 432x288 with 1 Axes>"
      ]
     },
     "metadata": {
      "needs_background": "light"
     },
     "output_type": "display_data"
    }
   ],
   "source": [
    "ax = plt.gca()\n",
    "rfc_disp = RocCurveDisplay.from_estimator(rfc, X_test, y_test, ax=ax, alpha=0.8)\n",
    "plt.show()"
   ]
  },
  {
   "cell_type": "markdown",
   "id": "8c3c8e6e",
   "metadata": {},
   "source": [
    "# Conclusion"
   ]
  },
  {
   "cell_type": "markdown",
   "id": "e91f987a",
   "metadata": {},
   "source": [
    "Correcting the data imblance with SMOTE gives better results.\\\n",
    "Combining upsampling and downsampling methods give slightly better results than only using an upsampling method. \\\n",
    "The Smote-ENN method slightly improves the recall score and lowers the percentage of false negative rate by only 0.01 point. \\\n",
    "The classification report of the Logistic regression models has slightly better metrics than the RFC's but the RFC Mean AUC score is better."
   ]
  },
  {
   "cell_type": "code",
   "execution_count": null,
   "id": "be50a64d",
   "metadata": {},
   "outputs": [],
   "source": []
  },
  {
   "cell_type": "code",
   "execution_count": null,
   "id": "16c11a5a",
   "metadata": {},
   "outputs": [],
   "source": []
  },
  {
   "cell_type": "code",
   "execution_count": null,
   "id": "0c4312fa",
   "metadata": {},
   "outputs": [],
   "source": []
  }
 ],
 "metadata": {
  "kernelspec": {
   "display_name": "Python 3 (ipykernel)",
   "language": "python",
   "name": "python3"
  },
  "language_info": {
   "codemirror_mode": {
    "name": "ipython",
    "version": 3
   },
   "file_extension": ".py",
   "mimetype": "text/x-python",
   "name": "python",
   "nbconvert_exporter": "python",
   "pygments_lexer": "ipython3",
   "version": "3.9.7"
  }
 },
 "nbformat": 4,
 "nbformat_minor": 5
}
